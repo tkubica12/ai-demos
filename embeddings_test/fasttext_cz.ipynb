{
 "cells": [
  {
   "cell_type": "markdown",
   "metadata": {},
   "source": [
    "# Demonstrating semantic nature of FastText CY word embeddings"
   ]
  },
  {
   "cell_type": "code",
   "execution_count": 204,
   "metadata": {},
   "outputs": [
    {
     "data": {
      "text/plain": [
       "True"
      ]
     },
     "execution_count": 204,
     "metadata": {},
     "output_type": "execute_result"
    }
   ],
   "source": [
    "from dotenv import load_dotenv\n",
    "\n",
    "# Load environment variables from .env file\n",
    "load_dotenv()"
   ]
  },
  {
   "cell_type": "code",
   "execution_count": 74,
   "metadata": {},
   "outputs": [
    {
     "name": "stderr",
     "output_type": "stream",
     "text": [
      "Warning : `load_model` does not return WordVectorModel or SupervisedModel any more, but a `FastText` object which is very similar.\n"
     ]
    }
   ],
   "source": [
    "import fasttext.util\n",
    "fasttext.util.download_model('cs', if_exists='ignore')\n",
    "ft = fasttext.load_model('cc.cs.300.bin')"
   ]
  },
  {
   "cell_type": "code",
   "execution_count": 75,
   "metadata": {},
   "outputs": [
    {
     "name": "stdout",
     "output_type": "stream",
     "text": [
      "Shape: (300,)\n",
      "First few dimension in vector:\n",
      "-0.050628807\n",
      "-0.028105816\n",
      "-0.001982244\n",
      "-0.11705588\n",
      "0.05277974\n",
      "0.024067959\n",
      "0.10217413\n",
      "0.010302509\n",
      "-0.022461219\n",
      "0.16223034\n"
     ]
    }
   ],
   "source": [
    "print(f\"Shape: {ft.get_word_vector('král').shape}\")\n",
    "print(\"First few dimension in vector:\")\n",
    "for i in range(0,10):\n",
    "    print(ft.get_word_vector('král')[i])\n"
   ]
  },
  {
   "cell_type": "code",
   "execution_count": 76,
   "metadata": {},
   "outputs": [
    {
     "data": {
      "text/plain": [
       "[(0.7312235832214355, 'panovník'),\n",
       " (0.718578040599823, 'Král'),\n",
       " (0.6569151282310486, 'princ'),\n",
       " (0.6439622640609741, 'exkrál'),\n",
       " (0.6431606411933899, 'královna'),\n",
       " (0.6414929628372192, 'císař'),\n",
       " (0.6406504511833191, 'velekrál'),\n",
       " (0.6317716240882874, 'králem'),\n",
       " (0.6150355935096741, 'králevic'),\n",
       " (0.6146398186683655, 'vicekrál')]"
      ]
     },
     "execution_count": 76,
     "metadata": {},
     "output_type": "execute_result"
    }
   ],
   "source": [
    "# What is close to Král\n",
    "ft.get_nearest_neighbors('král')"
   ]
  },
  {
   "cell_type": "code",
   "execution_count": 77,
   "metadata": {},
   "outputs": [
    {
     "name": "stdout",
     "output_type": "stream",
     "text": [
      "Cosine similarity between:\n",
      "king:queen = 0.6431607604026794\n",
      "king-man:queen = 0.21794196963310242\n",
      "king+woman:queen = 0.7189441323280334\n",
      "king-man+woman:queen = 0.6733925342559814\n",
      "Distance between:\n",
      "king-queen = 1.094274640083313\n",
      "king-man-queen = 1.7599135637283325\n",
      "king+woman-queen = 1.7196201086044312\n",
      "king-man+woman-queen = 1.1799613237380981\n",
      "king-man+woman-queen = 0.9950234889984131\n"
     ]
    }
   ],
   "source": [
    "import numpy as np\n",
    "import math\n",
    "\n",
    "king = np.array(ft.get_word_vector('král'))\n",
    "man = np.array(ft.get_word_vector('muž'))\n",
    "woman = np.array(ft.get_word_vector('žena'))\n",
    "queen = np.array(ft.get_word_vector('královna'))\n",
    "\n",
    "def get_similarity(a,b):\n",
    "    return np.dot(a, b) / (np.linalg.norm(a) * np.linalg.norm(b))\n",
    "\n",
    "print(\"Cosine similarity between:\")\n",
    "print(f\"king:queen = {get_similarity(king, queen)}\")\n",
    "print(f\"king-man:queen = {get_similarity(king-man, queen)}\")\n",
    "print(f\"king+woman:queen = {get_similarity(king+woman, queen)}\")\n",
    "print(f\"king-man+woman:queen = {get_similarity(king+woman-man, queen)}\")\n",
    "\n",
    "print(\"Distance between:\")\n",
    "print(f\"king-queen = {np.linalg.norm(king-queen)}\")\n",
    "print(f\"king-man-queen = {np.linalg.norm(king-man-queen)}\")\n",
    "print(f\"king+woman-queen = {np.linalg.norm(king+woman-queen)}\")\n",
    "print(f\"king-man+woman-queen = {np.linalg.norm(king-man+woman-queen)}\")\n",
    "print(f\"king-man+woman-queen = {np.linalg.norm(king-0.7*man+0.7*woman-queen)}\")\n"
   ]
  }
 ],
 "metadata": {
  "kernelspec": {
   "display_name": "Python 3",
   "language": "python",
   "name": "python3"
  },
  "language_info": {
   "codemirror_mode": {
    "name": "ipython",
    "version": 3
   },
   "file_extension": ".py",
   "mimetype": "text/x-python",
   "name": "python",
   "nbconvert_exporter": "python",
   "pygments_lexer": "ipython3",
   "version": "3.10.12"
  }
 },
 "nbformat": 4,
 "nbformat_minor": 2
}
