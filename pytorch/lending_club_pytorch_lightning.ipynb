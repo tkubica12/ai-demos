{
 "cells": [
  {
   "cell_type": "code",
   "execution_count": 20,
   "metadata": {},
   "outputs": [],
   "source": [
    "import pandas as pd\n",
    "import torch\n",
    "from torch import nn\n",
    "import pytorch_lightning as pl\n",
    "from pytorch_lightning.callbacks.early_stopping import EarlyStopping\n",
    "import torchmetrics as tm\n",
    "import numpy as np\n",
    "from sklearn.preprocessing import MinMaxScaler\n",
    "from sklearn.model_selection import train_test_split\n",
    "import matplotlib.pyplot as plt"
   ]
  },
  {
   "cell_type": "code",
   "execution_count": 5,
   "metadata": {},
   "outputs": [
    {
     "name": "stdout",
     "output_type": "stream",
     "text": [
      "loan_status column exists, create binary label loan_repaid\n"
     ]
    }
   ],
   "source": [
    "# Load raw data\n",
    "df = pd.read_csv(\"../azureml/data/lending_club.csv\", delimiter=\",\")\n",
    "\n",
    "# Create binary label\n",
    "if \"loan_status\" in df:\n",
    "    print(\"loan_status column exists, create binary label loan_repaid\")\n",
    "    df[\"loan_repaid\"] = np.where(df[\"loan_status\"] == \"Fully Paid\", 1, 0)\n",
    "    df = df.drop(labels=\"loan_status\", axis=1)\n",
    "else:\n",
    "    print(\"loan_status column does not exist, ignore\")\n",
    "\n",
    "# Drop features\n",
    "df = df.drop(labels=[\"grade\", \"issue_d\"], axis=1)\n",
    "\n",
    "# Fill-in mort acc\n",
    "mortmeans = df.groupby(by=\"total_acc\")[\"mort_acc\"].mean()\n",
    "\n",
    "\n",
    "def myfill(total, mort):\n",
    "    if pd.isna(mort):\n",
    "        return mortmeans[total]\n",
    "    else:\n",
    "        return mort\n",
    "\n",
    "\n",
    "df[\"mort_acc\"] = df.apply(lambda x: myfill(x.total_acc, x.mort_acc), axis=1)\n",
    "\n",
    "# Keep top 30 most frequent values for emp_title\n",
    "top_values = (\n",
    "    df[\"emp_title\"]\n",
    "    .groupby(df[\"emp_title\"])\n",
    "    .count()\n",
    "    .sort_values(ascending=False)\n",
    "    .head(30)\n",
    "    .index.tolist()\n",
    ")\n",
    "df[\"emp_title\"] = df[\"emp_title\"].apply(lambda x: \"Other\" if x not in top_values else x)\n",
    "\n",
    "# Keep top 30 most frequent values for title\n",
    "top_values = (\n",
    "    df[\"title\"]\n",
    "    .groupby(df[\"title\"])\n",
    "    .count()\n",
    "    .sort_values(ascending=False)\n",
    "    .head(30)\n",
    "    .index.tolist()\n",
    ")\n",
    "df[\"title\"] = df[\"title\"].apply(lambda x: \"Other\" if x not in top_values else x)\n",
    "\n",
    "# Drop rows with missing data\n",
    "df = df.dropna()\n",
    "\n",
    "\n",
    "# Convert term feature to number\n",
    "def convert_term(x):\n",
    "    if x == \" 36 months\":\n",
    "        return 36\n",
    "    if x == \" 60 months\":\n",
    "        return 60\n",
    "\n",
    "\n",
    "df[\"term\"] = df[\"term\"].apply(lambda x: convert_term(x))\n",
    "\n",
    "\n",
    "# Home ownership feature - join categories\n",
    "def homeownership(x):\n",
    "    if (x == \"NONE\") or (x == \"ANY\"):\n",
    "        return \"OTHER\"\n",
    "    else:\n",
    "        return x\n",
    "\n",
    "\n",
    "df[\"home_ownership\"].apply(lambda x: homeownership(x)).unique()\n",
    "\n",
    "# Parse zip and create dummy vars\n",
    "df[\"address\"] = df[\"address\"].str[-5:]\n",
    "\n",
    "# Parse year\n",
    "df[\"earliest_cr_year\"] = pd.to_numeric(df[\"earliest_cr_line\"].str[-4:])\n",
    "df = df.drop(labels=\"earliest_cr_line\", axis=1)\n",
    "\n",
    "# Get dummies (OHE)\n",
    "df = pd.get_dummies(\n",
    "    columns=[\n",
    "        \"sub_grade\",\n",
    "        \"verification_status\",\n",
    "        \"application_type\",\n",
    "        \"initial_list_status\",\n",
    "        \"purpose\",\n",
    "        \"home_ownership\",\n",
    "        \"address\",\n",
    "        \"emp_title\",\n",
    "        \"title\",\n",
    "        \"emp_length\",\n",
    "    ],\n",
    "    data=df,\n",
    "    drop_first=True,\n",
    ")"
   ]
  },
  {
   "cell_type": "code",
   "execution_count": 6,
   "metadata": {},
   "outputs": [],
   "source": [
    "# Train test split\n",
    "X = df.drop(labels=\"loan_repaid\", axis=1)\n",
    "y = df[\"loan_repaid\"]\n",
    "X_train, X_test, y_train, y_test = train_test_split(X, y, test_size=0.20)"
   ]
  },
  {
   "cell_type": "code",
   "execution_count": 7,
   "metadata": {},
   "outputs": [],
   "source": [
    "# Scale (note this is just for debug, we should first split test and train and fit just to train)\n",
    "scaler = MinMaxScaler()\n",
    "X_train = scaler.fit_transform(X_train)\n",
    "X_test = scaler.transform(X_test)"
   ]
  },
  {
   "cell_type": "code",
   "execution_count": 8,
   "metadata": {},
   "outputs": [],
   "source": [
    "# Create tensors\n",
    "X_train = torch.tensor(X_train, dtype=torch.float32)\n",
    "y_train = torch.from_numpy(y_train.to_numpy(dtype=np.float32)).reshape(-1, 1)\n",
    "X_test = torch.tensor(X_test, dtype=torch.float32)\n",
    "y_test = torch.from_numpy(y_test.to_numpy(dtype=np.float32)).reshape(-1, 1)"
   ]
  },
  {
   "cell_type": "code",
   "execution_count": 35,
   "metadata": {},
   "outputs": [],
   "source": [
    "# Define model\n",
    "class LandingClub(pl.LightningModule):\n",
    "    def __init__(self):\n",
    "        super().__init__()\n",
    "        self.layer1 = nn.Linear(149, 75)\n",
    "        self.layer2 = nn.Linear(75, 37)\n",
    "        self.layer3 = nn.Linear(37, 18)\n",
    "        self.layer4 = nn.Linear(18, 1)\n",
    "        self.layer_norm = nn.LayerNorm(75)\n",
    "        self.relu = nn.ReLU()\n",
    "        self.sigmoid = nn.Sigmoid()\n",
    "\n",
    "    def forward(self, x):\n",
    "        x = self.layer1(x)\n",
    "        x = self.layer_norm(x)\n",
    "        x = self.relu(x)\n",
    "        x = self.layer2(x)\n",
    "        x = self.relu(x)\n",
    "        x = self.layer3(x)\n",
    "        x = self.relu(x)\n",
    "        x = self.layer4(x)\n",
    "        x = self.sigmoid(x)\n",
    "        return x\n",
    "\n",
    "    def training_step(self, batch, batch_idx):\n",
    "        x, y = batch\n",
    "        y_pred = self.forward(x)\n",
    "        loss = nn.BCELoss()(y_pred, y)\n",
    "        acc = tm.functional.accuracy(y_pred, y, task=\"binary\")\n",
    "        auc = tm.functional.auroc(y_pred, y.long(), task=\"binary\")\n",
    "        self.log('train_loss', loss)\n",
    "        self.log('train_accuracy', acc)\n",
    "        self.log('train_auc', auc)\n",
    "        return loss\n",
    "\n",
    "    def validation_step(self, batch, batch_idx):\n",
    "        x, y = batch\n",
    "        y_pred = self.forward(x)\n",
    "        loss = nn.BCELoss()(y_pred, y)\n",
    "        acc = tm.functional.accuracy(y_pred, y, task=\"binary\")\n",
    "        auc = tm.functional.auroc(y_pred, y.long(), task=\"binary\")\n",
    "        self.log('val_loss', loss)\n",
    "        self.log('val_accuracy', acc)\n",
    "        self.log('val_auc', auc)\n",
    "\n",
    "    def configure_optimizers(self):\n",
    "        optimizer = torch.optim.Adam(self.parameters(), lr=1e-3)\n",
    "        return optimizer"
   ]
  },
  {
   "cell_type": "code",
   "execution_count": 10,
   "metadata": {},
   "outputs": [],
   "source": [
    "# Loaders\n",
    "train_dataset = torch.utils.data.TensorDataset(X_train, y_train)\n",
    "train_loader = torch.utils.data.DataLoader(train_dataset, batch_size=1000, shuffle=True)\n",
    "test_dataset = torch.utils.data.TensorDataset(X_test, y_test)\n",
    "test_loader = torch.utils.data.DataLoader(test_dataset, batch_size=1000)"
   ]
  },
  {
   "cell_type": "code",
   "execution_count": 38,
   "metadata": {},
   "outputs": [],
   "source": [
    "# Early stopping\n",
    "early_stop_callback = EarlyStopping(monitor=\"val_auc\", min_delta=0.00, patience=3, verbose=True, mode=\"max\")"
   ]
  },
  {
   "cell_type": "code",
   "execution_count": 42,
   "metadata": {},
   "outputs": [
    {
     "name": "stderr",
     "output_type": "stream",
     "text": [
      "GPU available: False, used: False\n",
      "TPU available: False, using: 0 TPU cores\n",
      "IPU available: False, using: 0 IPUs\n",
      "HPU available: False, using: 0 HPUs\n",
      "\n",
      "  | Name       | Type      | Params\n",
      "-----------------------------------------\n",
      "0 | layer1     | Linear    | 11.2 K\n",
      "1 | layer2     | Linear    | 2.8 K \n",
      "2 | layer3     | Linear    | 684   \n",
      "3 | layer4     | Linear    | 19    \n",
      "4 | layer_norm | LayerNorm | 150   \n",
      "5 | relu       | ReLU      | 0     \n",
      "6 | sigmoid    | Sigmoid   | 0     \n",
      "-----------------------------------------\n",
      "14.9 K    Trainable params\n",
      "0         Non-trainable params\n",
      "14.9 K    Total params\n",
      "0.060     Total estimated model params size (MB)\n"
     ]
    },
    {
     "name": "stdout",
     "output_type": "stream",
     "text": [
      "Epoch 0: 100%|██████████| 302/302 [00:15<00:00, 19.73it/s, v_num=15]       "
     ]
    },
    {
     "name": "stderr",
     "output_type": "stream",
     "text": [
      "Monitored metric val_auc did not improve in the last 4 records. Best score: 0.906. Signaling Trainer to stop.\n"
     ]
    },
    {
     "name": "stdout",
     "output_type": "stream",
     "text": [
      "Epoch 0: 100%|██████████| 302/302 [00:15<00:00, 19.71it/s, v_num=15]\n"
     ]
    }
   ],
   "source": [
    "# Training\n",
    "model = LandingClub()\n",
    "trainer = pl.Trainer(max_epochs=10, callbacks=[early_stop_callback])\n",
    "trainer.fit(model, train_loader, test_loader)"
   ]
  },
  {
   "cell_type": "code",
   "execution_count": 40,
   "metadata": {},
   "outputs": [
    {
     "data": {
      "text/plain": [
       "{'train_loss': tensor(0.2404),\n",
       " 'train_accuracy': tensor(0.9006),\n",
       " 'train_auc': tensor(0.9158),\n",
       " 'val_loss': tensor(0.2565),\n",
       " 'val_accuracy': tensor(0.8883),\n",
       " 'val_auc': tensor(0.9053)}"
      ]
     },
     "execution_count": 40,
     "metadata": {},
     "output_type": "execute_result"
    }
   ],
   "source": [
    "trainer.logged_metrics"
   ]
  },
  {
   "cell_type": "code",
   "execution_count": 41,
   "metadata": {},
   "outputs": [
    {
     "data": {
      "text/plain": [
       "Reusing TensorBoard on port 6006 (pid 28952), started 19:58:42 ago. (Use '!kill 28952' to kill it.)"
      ]
     },
     "metadata": {},
     "output_type": "display_data"
    },
    {
     "data": {
      "text/html": [
       "\n",
       "      <iframe id=\"tensorboard-frame-bf3b07ee019b337a\" width=\"100%\" height=\"800\" frameborder=\"0\">\n",
       "      </iframe>\n",
       "      <script>\n",
       "        (function() {\n",
       "          const frame = document.getElementById(\"tensorboard-frame-bf3b07ee019b337a\");\n",
       "          const url = new URL(\"http://localhost\");\n",
       "          const port = 6006;\n",
       "          if (port) {\n",
       "            url.port = port;\n",
       "          }\n",
       "          frame.src = url;\n",
       "        })();\n",
       "      </script>\n",
       "    "
      ],
      "text/plain": [
       "<IPython.core.display.HTML object>"
      ]
     },
     "metadata": {},
     "output_type": "display_data"
    }
   ],
   "source": [
    "%reload_ext tensorboard\n",
    "%tensorboard --logdir=lightning_logs/"
   ]
  },
  {
   "cell_type": "code",
   "execution_count": null,
   "metadata": {},
   "outputs": [],
   "source": [
    "# plt.plot(accuracies_val, label=\"accuracy_val\")\n",
    "# plt.axvline(\n",
    "#     x=accuracies_val.index(max(accuracies_val)),\n",
    "#     color=\"r\",\n",
    "#     linestyle=\"--\",\n",
    "#     label=\"max accuracy on test\",\n",
    "# )\n",
    "# plt.title(\"Accuracy in validation\")\n",
    "# plt.xlabel(\"epochs\")\n",
    "# plt.legend()\n",
    "# plt.show()\n",
    "\n",
    "# plt.plot(np.array([x.item() for x in losses_val]), label=\"loss_val\")\n",
    "# plt.axvline(\n",
    "#     x=accuracies_val.index(max(accuracies_val)),\n",
    "#     color=\"r\",\n",
    "#     linestyle=\"--\",\n",
    "#     label=\"max accuracy on test\",\n",
    "# )\n",
    "# plt.title(\"Loss in validation\")\n",
    "# plt.xlabel(\"epochs\")\n",
    "# plt.legend()\n",
    "# plt.show()\n",
    "\n",
    "# plt.plot(accuracies, label=\"accuracy_train\")\n",
    "# plt.axvline(\n",
    "#     x=accuracies.index(max(accuracies)),\n",
    "#     color=\"r\",\n",
    "#     linestyle=\"--\",\n",
    "#     label=\"max accuracy on train\",\n",
    "# )\n",
    "# plt.xlabel(\"batches\")\n",
    "# plt.title(\"Accuracy in training\")\n",
    "# plt.legend()\n",
    "# plt.show()\n",
    "\n",
    "# plt.plot(np.array([x.item() for x in losses]), label=\"loss_train\")\n",
    "# plt.axvline(\n",
    "#     x=accuracies.index(max(accuracies)),\n",
    "#     color=\"r\",\n",
    "#     linestyle=\"--\",\n",
    "#     label=\"max accuracy on train\",\n",
    "# )\n",
    "# plt.xlabel(\"batches\")\n",
    "# plt.title(\"Loss in training\")\n",
    "# plt.xlabel(\"epochs\")\n",
    "# plt.legend()\n",
    "# plt.show()"
   ]
  },
  {
   "cell_type": "code",
   "execution_count": null,
   "metadata": {},
   "outputs": [
    {
     "ename": "NameError",
     "evalue": "name 'best_model' is not defined",
     "output_type": "error",
     "traceback": [
      "\u001b[1;31m---------------------------------------------------------------------------\u001b[0m",
      "\u001b[1;31mNameError\u001b[0m                                 Traceback (most recent call last)",
      "Cell \u001b[1;32mIn[10], line 2\u001b[0m\n\u001b[0;32m      1\u001b[0m \u001b[39m# Save model where accuracies_val is max\u001b[39;00m\n\u001b[1;32m----> 2\u001b[0m torch\u001b[39m.\u001b[39msave(best_model, \u001b[39m\"\u001b[39m\u001b[39mlending_club_pytorch.pt\u001b[39m\u001b[39m\"\u001b[39m)\n",
      "\u001b[1;31mNameError\u001b[0m: name 'best_model' is not defined"
     ]
    }
   ],
   "source": [
    "# Save model where accuracies_val is max\n",
    "torch.save(best_model, \"lending_club_pytorch.pt\")"
   ]
  }
 ],
 "metadata": {
  "kernelspec": {
   "display_name": "Python 3",
   "language": "python",
   "name": "python3"
  },
  "language_info": {
   "codemirror_mode": {
    "name": "ipython",
    "version": 3
   },
   "file_extension": ".py",
   "mimetype": "text/x-python",
   "name": "python",
   "nbconvert_exporter": "python",
   "pygments_lexer": "ipython3",
   "version": "3.11.2"
  },
  "orig_nbformat": 4
 },
 "nbformat": 4,
 "nbformat_minor": 2
}
