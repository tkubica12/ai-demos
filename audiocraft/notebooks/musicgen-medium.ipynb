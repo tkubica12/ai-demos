{
 "cells": [
  {
   "cell_type": "markdown",
   "metadata": {},
   "source": [
    "# MusicGen\n",
    "Inferencing using medium size model requires 16 GB of GPU RAM.\n",
    "\n",
    "I have used NVIDIA T4."
   ]
  },
  {
   "cell_type": "code",
   "execution_count": 1,
   "metadata": {},
   "outputs": [
    {
     "name": "stderr",
     "output_type": "stream",
     "text": [
      "/home/tomas/.local/lib/python3.10/site-packages/tqdm/auto.py:21: TqdmWarning: IProgress not found. Please update jupyter and ipywidgets. See https://ipywidgets.readthedocs.io/en/stable/user_install.html\n",
      "  from .autonotebook import tqdm as notebook_tqdm\n"
     ]
    }
   ],
   "source": [
    "import torchaudio\n",
    "from audiocraft.models import MusicGen, MultiBandDiffusion\n",
    "from audiocraft.data.audio import audio_write"
   ]
  },
  {
   "cell_type": "code",
   "execution_count": 2,
   "metadata": {},
   "outputs": [
    {
     "name": "stderr",
     "output_type": "stream",
     "text": [
      "/home/tomas/.local/lib/python3.10/site-packages/torch/nn/utils/weight_norm.py:30: UserWarning: torch.nn.utils.weight_norm is deprecated in favor of torch.nn.utils.parametrizations.weight_norm.\n",
      "  warnings.warn(\"torch.nn.utils.weight_norm is deprecated in favor of torch.nn.utils.parametrizations.weight_norm.\")\n"
     ]
    }
   ],
   "source": [
    "model = MusicGen.get_pretrained('facebook/musicgen-medium')\n",
    "mbd = MultiBandDiffusion.get_mbd_musicgen()\n",
    "\n",
    "model.set_generation_params(\n",
    "    use_sampling=True,\n",
    "    top_k=250,\n",
    "    duration=30\n",
    ")"
   ]
  },
  {
   "cell_type": "code",
   "execution_count": 3,
   "metadata": {},
   "outputs": [],
   "source": [
    "texts = [\n",
    "    \"epic movie soundtrack with orchestra and modern drums\",\n",
    "    \"punk rock with loud drum and power guitar\",\n",
    "    \"a light and cheerly EDM track, with syncopated drums, aery pads, and strong emotions bpm: 130\",\n",
    "    \"folk music with guitar and fiddle\",\n",
    "    \"scottish pipes\",\n",
    "    \"rock balad with power guitar, symphonic orchestra and flute as lead\"\n",
    "    ]"
   ]
  },
  {
   "cell_type": "code",
   "execution_count": 4,
   "metadata": {},
   "outputs": [
    {
     "name": "stdout",
     "output_type": "stream",
     "text": [
      "Generating: epic movie soundtrack with orchestra and modern drums\n",
      "Generating: punk rock with loud drum and power guitar\n",
      "Generating: a light and cheerly EDM track, with syncopated drums, aery pads, and strong emotions bpm: 130\n",
      "Generating: folk music with guitar and fiddle\n",
      "Generating: scottish pipes\n",
      "Generating: rock balad with power guitar, symphonic orchestra and flute as lead\n",
      "  1503 /   1500\r"
     ]
    }
   ],
   "source": [
    "for text in texts:\n",
    "    print(f\"Generating: {text}\")\n",
    "    output = model.generate(\n",
    "        descriptions=[text],\n",
    "        progress=True, return_tokens=True\n",
    "    )\n",
    "    text = text.replace(\" \", \"_\").replace(\",\", \"\").replace(\":\", \"\")\n",
    "    output_diffusion = mbd.tokens_to_wav(output[1])\n",
    "    audio_write(f\"../musicgen-medium/{text}\", wav=output_diffusion[0], sample_rate=model.sample_rate, format=\"mp3\", strategy=\"loudness\", loudness_headroom_db=16, loudness_compressor=True)"
   ]
  }
 ],
 "metadata": {
  "kernelspec": {
   "display_name": "Python 3",
   "language": "python",
   "name": "python3"
  },
  "language_info": {
   "codemirror_mode": {
    "name": "ipython",
    "version": 3
   },
   "file_extension": ".py",
   "mimetype": "text/x-python",
   "name": "python",
   "nbconvert_exporter": "python",
   "pygments_lexer": "ipython3",
   "version": "3.10.12"
  }
 },
 "nbformat": 4,
 "nbformat_minor": 2
}
