{
 "cells": [
  {
   "cell_type": "markdown",
   "metadata": {},
   "source": [
    "# MusicGen\n",
    "Inferencing using large size model truly requires at least 16 GB of GPU RAM, but rather more for this notebook to run reliably (generation loop took about 20 GB).\n",
    "\n",
    "I have used **NVIDIA A100** and this very strong card generates 30 seconds content within 90 seconds on large model."
   ]
  },
  {
   "cell_type": "code",
   "execution_count": 1,
   "metadata": {},
   "outputs": [],
   "source": [
    "import torchaudio\n",
    "from audiocraft.models import MusicGen, MultiBandDiffusion\n",
    "from audiocraft.data.audio import audio_write"
   ]
  },
  {
   "cell_type": "code",
   "execution_count": null,
   "metadata": {},
   "outputs": [],
   "source": [
    "model = MusicGen.get_pretrained('facebook/musicgen-large')\n",
    "mbd = MultiBandDiffusion.get_mbd_musicgen()\n",
    "\n",
    "model.set_generation_params(\n",
    "    use_sampling=True,\n",
    "    top_k=250,\n",
    "    duration=30\n",
    ")"
   ]
  },
  {
   "cell_type": "code",
   "execution_count": 3,
   "metadata": {},
   "outputs": [],
   "source": [
    "texts = [\n",
    "    \"epic movie soundtrack with orchestra and modern drums\",\n",
    "    \"punk rock with loud drum and power guitar\",\n",
    "    \"a light and cheerly EDM track, with syncopated drums, aery pads, and strong emotions bpm: 130\",\n",
    "    \"folk music with guitar and fiddle\",\n",
    "    \"scottish pipes\",\n",
    "    \"rock balad with power guitar, symphonic orchestra and flute as lead\"\n",
    "    ]"
   ]
  },
  {
   "cell_type": "code",
   "execution_count": 4,
   "metadata": {},
   "outputs": [
    {
     "name": "stdout",
     "output_type": "stream",
     "text": [
      "Generating: epic movie soundtrack with orchestra and modern drums\n",
      "Generating: punk rock with loud drum and power guitar\n",
      "Generating: a light and cheerly EDM track, with syncopated drums, aery pads, and strong emotions bpm: 130\n",
      "Generating: folk music with guitar and fiddle\n",
      "Generating: scottish pipes\n",
      "Generating: rock balad with power guitar, symphonic orchestra and flute as lead\n",
      "  1503 /   1500\r"
     ]
    }
   ],
   "source": [
    "for text in texts:\n",
    "    print(f\"Generating: {text}\")\n",
    "    output = model.generate(\n",
    "        descriptions=[text],\n",
    "        progress=True, return_tokens=True\n",
    "    )\n",
    "    text = text.replace(\" \", \"_\").replace(\",\", \"\").replace(\":\", \"\")\n",
    "    output_diffusion = mbd.tokens_to_wav(output[1])\n",
    "    audio_write(f\"../musicgen-large/{text}\", wav=output_diffusion[0], sample_rate=model.sample_rate, format=\"mp3\", strategy=\"loudness\", loudness_headroom_db=16, loudness_compressor=True)"
   ]
  }
 ],
 "metadata": {
  "kernelspec": {
   "display_name": "Python 3",
   "language": "python",
   "name": "python3"
  },
  "language_info": {
   "codemirror_mode": {
    "name": "ipython",
    "version": 3
   },
   "file_extension": ".py",
   "mimetype": "text/x-python",
   "name": "python",
   "nbconvert_exporter": "python",
   "pygments_lexer": "ipython3",
   "version": "3.10.12"
  }
 },
 "nbformat": 4,
 "nbformat_minor": 2
}
