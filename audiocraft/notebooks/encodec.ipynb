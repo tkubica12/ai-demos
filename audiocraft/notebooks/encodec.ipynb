{
 "cells": [
  {
   "cell_type": "markdown",
   "metadata": {},
   "source": [
    "# EnCodec\n",
    "Paper: [https://arxiv.org/pdf/2210.13438.pdf](https://arxiv.org/pdf/2210.13438.pdf)"
   ]
  },
  {
   "cell_type": "code",
   "execution_count": 21,
   "metadata": {},
   "outputs": [],
   "source": [
    "from encodec import EncodecModel\n",
    "from encodec.utils import convert_audio, save_audio\n",
    "from encodec.compress import compress, decompress\n",
    "\n",
    "import torchaudio\n",
    "import torch"
   ]
  },
  {
   "cell_type": "code",
   "execution_count": 27,
   "metadata": {},
   "outputs": [],
   "source": [
    "# Set output bitrates to test\n",
    "bitrates = [3.0, 6.0, 12.0]"
   ]
  },
  {
   "cell_type": "code",
   "execution_count": 28,
   "metadata": {},
   "outputs": [],
   "source": [
    "for bitrate in bitrates:\n",
    "    model = EncodecModel.encodec_model_48khz()\n",
    "    model.set_target_bandwidth(bitrate)\n",
    "\n",
    "    # EnCodec compress and store to file\n",
    "    wav, sr = torchaudio.load(\"../encodec/alex-productions-epic-cinematic-saga-trailer-myths.wav\")\n",
    "    wav = convert_audio(wav, sr, model.sample_rate, model.channels)\n",
    "    compressed = compress(model, wav, use_lm=True)\n",
    "\n",
    "    with open(f'./encodec/music_{bitrate}.ecdc', 'wb') as f:\n",
    "        f.write(compressed)\n",
    "\n",
    "    # EnCodec decompress and store to file\n",
    "    with open(f'../encodec/music_{bitrate}.ecdc', 'rb') as f:\n",
    "        out, out_sample_rate = decompress(f.read())\n",
    "        save_audio(out, f'../encodec/music_encodec_{bitrate}.wav', out_sample_rate, rescale=True)"
   ]
  }
 ],
 "metadata": {
  "kernelspec": {
   "display_name": "Python 3",
   "language": "python",
   "name": "python3"
  },
  "language_info": {
   "codemirror_mode": {
    "name": "ipython",
    "version": 3
   },
   "file_extension": ".py",
   "mimetype": "text/x-python",
   "name": "python",
   "nbconvert_exporter": "python",
   "pygments_lexer": "ipython3",
   "version": "3.11.2"
  }
 },
 "nbformat": 4,
 "nbformat_minor": 2
}
