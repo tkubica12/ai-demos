{
 "cells": [
  {
   "cell_type": "markdown",
   "metadata": {},
   "source": [
    "# AudioGen\n",
    "I have used **NVIDIA T4** with 16 GB of RAM, but model should run on 8 GB also."
   ]
  },
  {
   "cell_type": "code",
   "execution_count": null,
   "metadata": {},
   "outputs": [],
   "source": [
    "import torchaudio\n",
    "from audiocraft.models import AudioGen\n",
    "from audiocraft.data.audio import audio_write"
   ]
  },
  {
   "cell_type": "code",
   "execution_count": null,
   "metadata": {},
   "outputs": [],
   "source": [
    "model = AudioGen.get_pretrained('facebook/audiogen-medium')"
   ]
  },
  {
   "cell_type": "code",
   "execution_count": 6,
   "metadata": {},
   "outputs": [],
   "source": [
    "texts = [\n",
    "    \"a cat meowing, a dog barking\",\n",
    "    \"baby crying, train passing by\",\n",
    "    \"helicopter crashing into water\",\n",
    "    \"elephant trumpeting underwater\",\n",
    "    \"typing on keyboard, drinking soda\",\n",
    "    \"beer bottle being open and poured into glass\",\n",
    "    ]"
   ]
  },
  {
   "cell_type": "code",
   "execution_count": 7,
   "metadata": {},
   "outputs": [
    {
     "name": "stdout",
     "output_type": "stream",
     "text": [
      "Generating: a cat meowing, a dog barking\n",
      "Generating: baby crying, train passing by\n",
      "Generating: helicopter crashing into water\n",
      "Generating: elephant trumpeting underwater\n",
      "Generating: typing on keyboard, drinking soda\n",
      "Generating: beer bottle being open and poured into glass\n",
      "   253 /    250\r"
     ]
    }
   ],
   "source": [
    "for text in texts:\n",
    "    print(f\"Generating: {text}\")\n",
    "    output = model.generate(\n",
    "        descriptions=[text],\n",
    "        progress=True\n",
    "    )\n",
    "    text = text.replace(\" \", \"_\").replace(\",\", \"\").replace(\":\", \"\")\n",
    "    audio_write(f\"../audiogen/{text}\", wav=output[0], sample_rate=model.sample_rate, format=\"mp3\", strategy=\"loudness\", loudness_headroom_db=16, loudness_compressor=True)"
   ]
  }
 ],
 "metadata": {
  "kernelspec": {
   "display_name": "Python 3",
   "language": "python",
   "name": "python3"
  },
  "language_info": {
   "codemirror_mode": {
    "name": "ipython",
    "version": 3
   },
   "file_extension": ".py",
   "mimetype": "text/x-python",
   "name": "python",
   "nbconvert_exporter": "python",
   "pygments_lexer": "ipython3",
   "version": "3.10.12"
  }
 },
 "nbformat": 4,
 "nbformat_minor": 2
}
