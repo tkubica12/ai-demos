{
 "cells": [
  {
   "cell_type": "code",
   "execution_count": 2,
   "metadata": {},
   "outputs": [],
   "source": [
    "# Imports\n",
    "import pandas as pd\n",
    "import numpy as np\n",
    "from torch import nn\n",
    "import pytorch_lightning as pl\n",
    "import torch"
   ]
  },
  {
   "cell_type": "code",
   "execution_count": 134,
   "metadata": {},
   "outputs": [],
   "source": [
    "# Define model\n",
    "class MyModel(pl.LightningModule):\n",
    "    def __init__(self, input_size, num_layers, layer_size):\n",
    "        super().__init__()\n",
    "        self.input_size = input_size\n",
    "        self.num_layers = num_layers\n",
    "        self.layer_size = layer_size\n",
    "        self.layers = nn.ModuleList()\n",
    "        self.layers.append(nn.Linear(self.input_size, self.layer_size))\n",
    "        self.layers.append(nn.ReLU())\n",
    "        for i in range(self.num_layers - 1):\n",
    "            self.layers.append(nn.Linear(self.layer_size, self.layer_size))\n",
    "            self.layers.append(nn.ReLU())\n",
    "        self.layers.append(nn.Linear(self.layer_size, 1))\n",
    "        self.layers.append(nn.Sigmoid())\n",
    "\n",
    "    def forward(self, x):\n",
    "        for layer in self.layers:\n",
    "            x = layer(x)\n",
    "        return x"
   ]
  },
  {
   "cell_type": "code",
   "execution_count": 139,
   "metadata": {},
   "outputs": [
    {
     "data": {
      "text/plain": [
       "MyModel(\n",
       "  (layers): ModuleList(\n",
       "    (0): Linear(in_features=2, out_features=100, bias=True)\n",
       "    (1): ReLU()\n",
       "    (2): Linear(in_features=100, out_features=100, bias=True)\n",
       "    (3): ReLU()\n",
       "    (4): Linear(in_features=100, out_features=100, bias=True)\n",
       "    (5): ReLU()\n",
       "    (6): Linear(in_features=100, out_features=100, bias=True)\n",
       "    (7): ReLU()\n",
       "    (8): Linear(in_features=100, out_features=100, bias=True)\n",
       "    (9): ReLU()\n",
       "    (10): Linear(in_features=100, out_features=100, bias=True)\n",
       "    (11): ReLU()\n",
       "    (12): Linear(in_features=100, out_features=100, bias=True)\n",
       "    (13): ReLU()\n",
       "    (14): Linear(in_features=100, out_features=100, bias=True)\n",
       "    (15): ReLU()\n",
       "    (16): Linear(in_features=100, out_features=100, bias=True)\n",
       "    (17): ReLU()\n",
       "    (18): Linear(in_features=100, out_features=100, bias=True)\n",
       "    (19): ReLU()\n",
       "    (20): Linear(in_features=100, out_features=100, bias=True)\n",
       "    (21): ReLU()\n",
       "    (22): Linear(in_features=100, out_features=100, bias=True)\n",
       "    (23): ReLU()\n",
       "    (24): Linear(in_features=100, out_features=100, bias=True)\n",
       "    (25): ReLU()\n",
       "    (26): Linear(in_features=100, out_features=100, bias=True)\n",
       "    (27): ReLU()\n",
       "    (28): Linear(in_features=100, out_features=100, bias=True)\n",
       "    (29): ReLU()\n",
       "    (30): Linear(in_features=100, out_features=100, bias=True)\n",
       "    (31): ReLU()\n",
       "    (32): Linear(in_features=100, out_features=100, bias=True)\n",
       "    (33): ReLU()\n",
       "    (34): Linear(in_features=100, out_features=100, bias=True)\n",
       "    (35): ReLU()\n",
       "    (36): Linear(in_features=100, out_features=100, bias=True)\n",
       "    (37): ReLU()\n",
       "    (38): Linear(in_features=100, out_features=100, bias=True)\n",
       "    (39): ReLU()\n",
       "    (40): Linear(in_features=100, out_features=100, bias=True)\n",
       "    (41): ReLU()\n",
       "    (42): Linear(in_features=100, out_features=100, bias=True)\n",
       "    (43): ReLU()\n",
       "    (44): Linear(in_features=100, out_features=100, bias=True)\n",
       "    (45): ReLU()\n",
       "    (46): Linear(in_features=100, out_features=100, bias=True)\n",
       "    (47): ReLU()\n",
       "    (48): Linear(in_features=100, out_features=100, bias=True)\n",
       "    (49): ReLU()\n",
       "    (50): Linear(in_features=100, out_features=100, bias=True)\n",
       "    (51): ReLU()\n",
       "    (52): Linear(in_features=100, out_features=100, bias=True)\n",
       "    (53): ReLU()\n",
       "    (54): Linear(in_features=100, out_features=100, bias=True)\n",
       "    (55): ReLU()\n",
       "    (56): Linear(in_features=100, out_features=100, bias=True)\n",
       "    (57): ReLU()\n",
       "    (58): Linear(in_features=100, out_features=100, bias=True)\n",
       "    (59): ReLU()\n",
       "    (60): Linear(in_features=100, out_features=100, bias=True)\n",
       "    (61): ReLU()\n",
       "    (62): Linear(in_features=100, out_features=100, bias=True)\n",
       "    (63): ReLU()\n",
       "    (64): Linear(in_features=100, out_features=100, bias=True)\n",
       "    (65): ReLU()\n",
       "    (66): Linear(in_features=100, out_features=100, bias=True)\n",
       "    (67): ReLU()\n",
       "    (68): Linear(in_features=100, out_features=100, bias=True)\n",
       "    (69): ReLU()\n",
       "    (70): Linear(in_features=100, out_features=100, bias=True)\n",
       "    (71): ReLU()\n",
       "    (72): Linear(in_features=100, out_features=100, bias=True)\n",
       "    (73): ReLU()\n",
       "    (74): Linear(in_features=100, out_features=100, bias=True)\n",
       "    (75): ReLU()\n",
       "    (76): Linear(in_features=100, out_features=100, bias=True)\n",
       "    (77): ReLU()\n",
       "    (78): Linear(in_features=100, out_features=100, bias=True)\n",
       "    (79): ReLU()\n",
       "    (80): Linear(in_features=100, out_features=100, bias=True)\n",
       "    (81): ReLU()\n",
       "    (82): Linear(in_features=100, out_features=100, bias=True)\n",
       "    (83): ReLU()\n",
       "    (84): Linear(in_features=100, out_features=100, bias=True)\n",
       "    (85): ReLU()\n",
       "    (86): Linear(in_features=100, out_features=100, bias=True)\n",
       "    (87): ReLU()\n",
       "    (88): Linear(in_features=100, out_features=100, bias=True)\n",
       "    (89): ReLU()\n",
       "    (90): Linear(in_features=100, out_features=100, bias=True)\n",
       "    (91): ReLU()\n",
       "    (92): Linear(in_features=100, out_features=100, bias=True)\n",
       "    (93): ReLU()\n",
       "    (94): Linear(in_features=100, out_features=100, bias=True)\n",
       "    (95): ReLU()\n",
       "    (96): Linear(in_features=100, out_features=100, bias=True)\n",
       "    (97): ReLU()\n",
       "    (98): Linear(in_features=100, out_features=100, bias=True)\n",
       "    (99): ReLU()\n",
       "    (100): Linear(in_features=100, out_features=1, bias=True)\n",
       "    (101): Sigmoid()\n",
       "  )\n",
       ")"
      ]
     },
     "execution_count": 139,
     "metadata": {},
     "output_type": "execute_result"
    }
   ],
   "source": [
    "model = MyModel(input_size=2, num_layers=50, layer_size=100)\n",
    "model"
   ]
  },
  {
   "cell_type": "code",
   "execution_count": 140,
   "metadata": {},
   "outputs": [
    {
     "name": "stdout",
     "output_type": "stream",
     "text": [
      "tensor([0.4845], grad_fn=<SigmoidBackward0>)\n"
     ]
    }
   ],
   "source": [
    "output = model(torch.rand(2))\n",
    "print(output)"
   ]
  },
  {
   "cell_type": "code",
   "execution_count": 141,
   "metadata": {},
   "outputs": [],
   "source": [
    "import os\n",
    "# os.makedirs(\"models/mymodel/1\", exist_ok=True)\n",
    "# model.to_torchscript().save(\"models/mymodel/1/model_v1.pt\")\n",
    "os.makedirs(\"models/mymodel/2\", exist_ok=True)\n",
    "model.to_torchscript().save(\"models/mymodel/2/model_v2.pt\")"
   ]
  }
 ],
 "metadata": {
  "kernelspec": {
   "display_name": "Python 3",
   "language": "python",
   "name": "python3"
  },
  "language_info": {
   "codemirror_mode": {
    "name": "ipython",
    "version": 3
   },
   "file_extension": ".py",
   "mimetype": "text/x-python",
   "name": "python",
   "nbconvert_exporter": "python",
   "pygments_lexer": "ipython3",
   "version": "3.11.2"
  },
  "orig_nbformat": 4
 },
 "nbformat": 4,
 "nbformat_minor": 2
}
