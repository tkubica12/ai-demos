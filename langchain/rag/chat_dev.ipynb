{
 "cells": [
  {
   "cell_type": "code",
   "execution_count": null,
   "metadata": {},
   "outputs": [],
   "source": [
    "%env BASE_URL = https://tom-canada-openai.openai.azure.com/\n",
    "%env API_KEY = mykey"
   ]
  },
  {
   "cell_type": "code",
   "execution_count": 2,
   "metadata": {},
   "outputs": [],
   "source": [
    "from langchain.embeddings import OpenAIEmbeddings\n",
    "from langchain.vectorstores import FAISS\n",
    "import os\n",
    "\n",
    "embedding = OpenAIEmbeddings(\n",
    "    openai_api_base=os.environ[\"BASE_URL\"],\n",
    "    openai_api_key=os.environ[\"API_KEY\"],\n",
    "    openai_api_type=\"azure\",\n",
    "    openai_api_version=\"2023-05-15\",\n",
    "    deployment=\"text-embedding-ada-002\",\n",
    "    model=\"text-embedding-ada-002\",\n",
    "    chunk_size=16)   # Note chunk_size here is misleading - it is more like batch size, how many should be send to API at once\n"
   ]
  },
  {
   "cell_type": "code",
   "execution_count": 3,
   "metadata": {},
   "outputs": [],
   "source": [
    "vectorstore = FAISS.load_local(folder_path=\".\", index_name=\"azuredocs\", embeddings=embedding)"
   ]
  },
  {
   "cell_type": "code",
   "execution_count": 21,
   "metadata": {},
   "outputs": [],
   "source": [
    "question = \"What is NSG and how can I configure it?\""
   ]
  },
  {
   "cell_type": "code",
   "execution_count": 22,
   "metadata": {},
   "outputs": [
    {
     "data": {
      "text/plain": [
       "[Document(page_content=\"#### Network security rules (NSGs)\\n\\nIf you need basic network level access control (based on IP address and the TCP or UDP protocols), you can use Network Security Groups (NSGs). An NSG is a basic, stateful, packet filtering firewall, and it enables you to control access based on a [5-tuple](https://www.techopedia.com/definition/28190/5-tuple). NSGs include functionality to simplify management and reduce the chances of configuration mistakes:\\n\\n* **Augmented security rules** simplify NSG rule definition and allow you to create complex rules rather than having to create multiple simple rules to achieve the same result.\\n* **Service tags** are Microsoft created labels that represent a group of IP addresses. They update dynamically to include IP ranges that meet the conditions that define inclusion in the label. For example, if you want to create a rule that applies to all Azure storage on the east region you can use Storage.EastUS\\n* **Application security groups** allow you to deploy resources to application groups and control the access to those resources by creating rules that use those application groups. For example, if you have webservers deployed to the 'Webservers' application group you can create a rule that applies a NSG allowing 443 traffic from the Internet to all systems in the 'Webservers' application group.\\n\\nNSGs do not provide application layer inspection or authenticated access controls.\\n\\nLearn more:\\n\\n* [Network Security Groups](../../virtual-network/network-security-groups-overview.md)\\n\\n#### Defender for Cloud just in time VM access\", metadata={'source': 'articles/security/fundamentals/network-overview.md', 'file_path': 'articles/security/fundamentals/network-overview.md', 'file_name': 'network-overview.md', 'file_type': '.md'}),\n",
       " Document(page_content='|NSG configuration required for Service Access| Yes (using Service Tags)| No|\\n| Service can be reached without using any public IP address                                                                                       | No                                                                                                                          | Yes                                                                                                                                                               |\\n| Azure-to-Azure traffic stays on the Azure backbone network                                                                                       | Yes                                                                                                                         | Yes                                                                                                                                                               |\\n| Service can disable its public IP address                                                                                                        | No                                                                                                                          | Yes                                                                                                                                                               |\\n| You can easily restrict traffic coming from an Azure Virtual Network                                                                             | Yes (allow access from specific subnets and or use NSGs)                                                                   | Yes                                                                                                                                                               |', metadata={'source': 'articles/virtual-network/vnet-integration-for-azure-services.md', 'file_path': 'articles/virtual-network/vnet-integration-for-azure-services.md', 'file_name': 'vnet-integration-for-azure-services.md', 'file_type': '.md'}),\n",
       " Document(page_content=\"## NSG & ASGs per scale set\\n[Network Security Groups](../virtual-network/network-security-groups-overview.md) allow you to filter traffic to and from Azure resources in an Azure virtual network using security rules. [Application Security Groups](../virtual-network/network-security-groups-overview.md#application-security-groups) enable you to handle network security of Azure resources and group them as an extension of your application's structure.\\n\\nNetwork Security Groups can be applied directly to a scale set, by adding a reference to the network interface configuration section of the scale set virtual machine properties.\\n\\nApplication Security Groups can also be specified directly to a scale set, by adding a reference to the network interface ip configurations section of the scale set virtual machine properties.\\n\\nFor example:\", metadata={'source': 'articles/virtual-machine-scale-sets/virtual-machine-scale-sets-networking.md', 'file_path': 'articles/virtual-machine-scale-sets/virtual-machine-scale-sets-networking.md', 'file_name': 'virtual-machine-scale-sets-networking.md', 'file_type': '.md'}),\n",
       " Document(page_content=\"A network security group (NSG) contains a list of Access Control List (ACL) rules that allow or deny network traffic to subnets, NICs, or both. NSGs can be associated with either subnets or individual NICs connected to a subnet. When an NSG is associated with a subnet, the ACL rules apply to all the VMs in that subnet. In addition, traffic to an individual NIC can be restricted by associating an NSG directly to a NIC.\\n\\nNSGs contain two sets of rules: inbound and outbound. The priority for a rule must be unique within each set. Each rule has properties of protocol, source and destination port ranges, address prefixes, direction of traffic, priority, and access type. All NSGs contain a set of default rules. The default rules cannot be deleted, but because they are assigned the lowest priority, they can be overridden by the rules that you create.\\n\\n## Verification\\n### Routes in virtual network\\nThe combination of routes you create, Azure's default routes, and any routes propagated from your on-premises network through an Azure VPN gateway (if your virtual network is connected to your on-premises network) via the border gateway protocol (BGP), are the effective routes for all network interfaces in a subnet. You can see these effective routes by navigating to NIC either via Portal, PowerShell, or CLI.\\n### Network Security Groups\\nThe effective security rules applied to a network interface are an aggregation of the rules that exist in the NSG associated to a network interface, and the subnet the network interface is in. You can view all the effective security rules from NSGs that are applied on your VM's network interfaces by navigating to the NIC via Portal, PowerShell, or CLI.\\n\\n## Next steps\\n\\nLearn about [virtual network][VNet].\\n\\nLearn about [virtual network routing][vnet-routing].\\n\\nLearn about the [network security groups][network-security].\", metadata={'source': 'articles/networking/azure-for-network-engineers.md', 'file_path': 'articles/networking/azure-for-network-engineers.md', 'file_name': 'azure-for-network-engineers.md', 'file_type': '.md'}),\n",
       " Document(page_content=\"NSGs contain two sets of rules, inbound and outbound. The priority for a rule must be unique within each set. \\n\\nEach rule has properties of:\\n\\n* Protocol\\n\\n* Source and destination port ranges\\n\\n* Address prefixes\\n\\n* Direction of traffic\\n\\n* Priority\\n\\n* Access type\\n\\nAll NSGs contain a set of default rules. You can't delete or override these default rules, as they have the lowest priority and any rules you create can't supersede them.\\n\\nWhen you associate an NSG to a NIC, the network access rules in the NSG are applied only to that NIC. If an NSG is applied to a single NIC on a multi-NIC VM, it doesn't affect traffic to the other NICs. You can associate different NSGs to a NIC (or VM, depending on the deployment model) and the subnet that a NIC or VM is bound to. Priority is given based on the direction of traffic.\\n\\nBe sure to [plan](../virtual-network/virtual-network-vnet-plan-design-arm.md) your NSGs when you plan your virtual machines and virtual network.\\n\\nThis table lists the methods that you can use to create a network security group.\", metadata={'source': 'articles/virtual-network/network-overview.md', 'file_path': 'articles/virtual-network/network-overview.md', 'file_name': 'network-overview.md', 'file_type': '.md'}),\n",
       " Document(page_content='> [!NOTE]\\n> Please use a Fully Qualified Domain Name (FQDN) for your private hostname (for example, use `<your_private_server>.contoso.com` instead of `<your_private_server>`). Alternatively, you can use a standard custom setup on your Azure-SSIS IR to automatically append your own DNS suffix (for example `contoso.com`) to any unqualified single label domain name and turn it into an FQDN before using it in DNS queries, see the [Standard custom setup samples](how-to-configure-azure-ssis-ir-custom-setup.md#standard-custom-setup-samples) section. \\n\\n## <a name=\"nsg\"></a>Configure an NSG\\n\\nIf you want to use an NSG on the subnet joined by your Azure-SSIS IR, allow the following inbound and outbound traffic:', metadata={'source': 'articles/data-factory/azure-ssis-integration-runtime-standard-virtual-network-injection.md', 'file_path': 'articles/data-factory/azure-ssis-integration-runtime-standard-virtual-network-injection.md', 'file_name': 'azure-ssis-integration-runtime-standard-virtual-network-injection.md', 'file_type': '.md'}),\n",
       " Document(page_content='- Network security groups (NSGs) with service endpoints:\\n  - By default, NSGs allow outbound internet traffic and also allow traffic from your VNet to Azure services. This traffic continues to work with service endpoints as is. \\n  - If you want to deny all outbound internet traffic and allow only traffic to specific Azure services, you can do so using [service tags](./network-security-groups-overview.md#service-tags) in your NSGs. You can specify supported Azure services as destination in your NSG rules and Azure also provides the maintenance of IP addresses underlying each tag. For more information, see [Azure Service tags for NSGs.](./network-security-groups-overview.md#service-tags) \\n\\n### Scenarios', metadata={'source': 'articles/virtual-network/virtual-network-service-endpoints-overview.md', 'file_path': 'articles/virtual-network/virtual-network-service-endpoints-overview.md', 'file_name': 'virtual-network-service-endpoints-overview.md', 'file_type': '.md'}),\n",
       " Document(page_content=\"## Network security groups\\n\\n[NSGs][NSGs] provide the ability to control network access within a virtual network. When you use the portal, there's an implicit *deny rule* at the lowest priority to deny everything. What you build are your *allow rules*.\\n\\nYou don't have access to the VMs used to host the App Service Environment itself. They're in a subscription that Microsoft manages. If you want to restrict access to the apps, set NSGs on the subnet. In doing so, pay careful attention to the dependencies. If you block any dependencies, the App Service Environment stops working.\\n\\nYou can configure NSGs through the Azure portal or via PowerShell. The information here shows the Azure portal. You create and manage NSGs in the portal as a top-level resource under **Networking**.\\n\\nThe required entries in an NSG are to allow traffic:\\n\\n**Inbound**\\n\\n* TCP from the IP service tag `AppServiceManagement` on ports 454, 455\\n* TCP from the load balancer on port 16001\\n* From the App Service Environment subnet to the App Service Environment subnet on all ports\\n\\n**Outbound**\\n\\n* UDP to all IPs on port 53\\n* UDP to all IPs on port 123\\n* TCP to all IPs on ports 80, 443\\n* TCP to the IP service tag `Sql` on port 1433\\n* TCP to all IPs on port 12000\\n* To the App Service Environment subnet on all ports\\n\\nThese ports don't include the ports that your apps require for successful use. For example, suppose your app needs to call a MySQL server on port 3306. Network Time Protocol (NTP) on port 123 is the time synchronization protocol used by the operating system. The NTP endpoints aren't specific to App Service, can vary with the operating system, and aren't in a well-defined list of addresses. To prevent time synchronization issues, you then need to allow UDP traffic to all addresses on port 123. The outbound TCP to port 12000 traffic is for system support and analysis. The endpoints are dynamic, and aren't in a well-defined set of addresses.\\n\\nThe normal app access ports are:\", metadata={'source': 'articles/app-service/environment/network-info.md', 'file_path': 'articles/app-service/environment/network-info.md', 'file_name': 'network-info.md', 'file_type': '.md'}),\n",
       " Document(page_content='- Quickly detect which NSGs and NSG rules are traversing malicious flows and which are the top malicious IP addresses accessing your cloud environment\\n  - Identify which NSG/NSG rules are allowing/blocking significant network traffic\\n  - Select top filters for granular inspection of an NSG or NSG rules\\n\\n    ![Screenshot showcasing time trending for N S G rule hits and top N S G rules.](./media/traffic-analytics/showcasing-time-trending-for-nsg-rule-hits-and-top-nsg-rules.png)\\n\\n    ![Screenshot of top N S G rules statistics details in log search.](./media/traffic-analytics/top-nsg-rules-statistics-details-in-log-search.png)', metadata={'source': 'articles/network-watcher/usage-scenarios-traffic-analytics.md', 'file_path': 'articles/network-watcher/usage-scenarios-traffic-analytics.md', 'file_name': 'usage-scenarios-traffic-analytics.md', 'file_type': '.md'}),\n",
       " Document(page_content=\"## 2. Configure a network security group\\n\\nWhen you connect your lab plan to a virtual network, you need to configure a network security group (NSG) to allow inbound RDP/SSH traffic from the user's computer to the template virtual machine and the lab virtual machines. An NSG contains access control rules that allow or deny traffic based on traffic direction, protocol, source address and port, and destination address and port. \\n\\nThe rules of an NSG can be changed at any time, and changes are applied to all associated instances. It might take up to 10 minutes for the NSG changes to be effective.\\n\\n> [!IMPORTANT]\\n> If you don't configure a network security group, you won't be able to access the lab template VM and lab VMs via RDP or SSH.\\n\\nThe network security group configuration for advanced networking consists of two steps:\\n\\n1. Create a network security group that allows RDP/SSH traffic\\n1. Associate the network security group with the virtual network subnet\\n\\n[!INCLUDE [nsg intro](../../includes/virtual-networks-create-nsg-intro-include.md)]\\n\\nYou can use an NSG to control traffic to one or more virtual machines (VMs), role instances, network adapters (NICs), or subnets in your virtual network. An NSG contains access control rules that allow or deny traffic based on traffic direction, protocol, source address and port, and destination address and port. The rules of an NSG can be changed at any time, and changes are applied to all associated instances.\\n\\nFor more information about NSGs, visit [what is an NSG](/azure/virtual-network/network-security-groups-overview).\\n\\n### Create a network security group to allow traffic\\n\\nFollow these steps to create an NSG and allow inbound RDP or SSH traffic:\\n\\n1. If you don't have a network security group yet, follow these steps to [create a network security group (NSG)](/azure/virtual-network/manage-network-security-group).\\n\\n    Make sure to create the network security group in the same Azure region as the virtual network and lab plan.\", metadata={'source': 'articles/lab-services/how-to-connect-vnet-injection.md', 'file_path': 'articles/lab-services/how-to-connect-vnet-injection.md', 'file_name': 'how-to-connect-vnet-injection.md', 'file_type': '.md'})]"
      ]
     },
     "execution_count": 22,
     "metadata": {},
     "output_type": "execute_result"
    }
   ],
   "source": [
    "# Simple similarity search, top 10 results\n",
    "docs = vectorstore.similarity_search(query=question,k=10)\n",
    "docs"
   ]
  },
  {
   "cell_type": "code",
   "execution_count": 23,
   "metadata": {},
   "outputs": [
    {
     "name": "stderr",
     "output_type": "stream",
     "text": [
      "INFO:langchain.retrievers.multi_query:Generated queries: ['1. How can I configure NSG and what is its purpose?', '2. What are the steps to configure NSG and what does it do?', '3. Can you explain the configuration process for NSG and provide an overview of its functionality?']\n"
     ]
    },
    {
     "data": {
      "text/plain": [
       "5"
      ]
     },
     "execution_count": 23,
     "metadata": {},
     "output_type": "execute_result"
    }
   ],
   "source": [
    "# MultiQueryRetriever - generates multiple queries from question and combines results\n",
    "from langchain.chat_models import AzureChatOpenAI\n",
    "from langchain.retrievers.multi_query import MultiQueryRetriever\n",
    "\n",
    "# Get access credentials\n",
    "BASE_URL = os.getenv(\"BASE_URL\")\n",
    "API_KEY = os.getenv(\"API_KEY\")\n",
    "# DEPLOYMENT_NAME = os.getenv(\"DEPLOYMENT_NAME\")\n",
    "\n",
    "# Create chat model\n",
    "llm = AzureChatOpenAI(\n",
    "    openai_api_base=BASE_URL,\n",
    "    openai_api_version=\"2023-05-15\",\n",
    "    deployment_name=\"gpt-35-turbo\",\n",
    "    openai_api_key=API_KEY,\n",
    "    openai_api_type=\"azure\",\n",
    ")\n",
    "\n",
    "# Set logging for the queries\n",
    "import logging\n",
    "\n",
    "logging.basicConfig()\n",
    "logging.getLogger(\"langchain.retrievers.multi_query\").setLevel(logging.INFO)\n",
    "\n",
    "retriever_from_llm = MultiQueryRetriever.from_llm(retriever=vectorstore.as_retriever(search_kwargs={\"k\":3}), llm=llm)\n",
    "unique_docs = retriever_from_llm.get_relevant_documents(query=question)\n",
    "len(unique_docs)\n"
   ]
  },
  {
   "cell_type": "code",
   "execution_count": 24,
   "metadata": {},
   "outputs": [
    {
     "data": {
      "text/plain": [
       "[Document(page_content=\"#### Network security rules (NSGs)\\n\\nIf you need basic network level access control (based on IP address and the TCP or UDP protocols), you can use Network Security Groups (NSGs). An NSG is a basic, stateful, packet filtering firewall, and it enables you to control access based on a [5-tuple](https://www.techopedia.com/definition/28190/5-tuple). NSGs include functionality to simplify management and reduce the chances of configuration mistakes:\\n\\n* **Augmented security rules** simplify NSG rule definition and allow you to create complex rules rather than having to create multiple simple rules to achieve the same result.\\n* **Service tags** are Microsoft created labels that represent a group of IP addresses. They update dynamically to include IP ranges that meet the conditions that define inclusion in the label. For example, if you want to create a rule that applies to all Azure storage on the east region you can use Storage.EastUS\\n* **Application security groups** allow you to deploy resources to application groups and control the access to those resources by creating rules that use those application groups. For example, if you have webservers deployed to the 'Webservers' application group you can create a rule that applies a NSG allowing 443 traffic from the Internet to all systems in the 'Webservers' application group.\\n\\nNSGs do not provide application layer inspection or authenticated access controls.\\n\\nLearn more:\\n\\n* [Network Security Groups](../../virtual-network/network-security-groups-overview.md)\\n\\n#### Defender for Cloud just in time VM access\", metadata={'source': 'articles/security/fundamentals/network-overview.md', 'file_path': 'articles/security/fundamentals/network-overview.md', 'file_name': 'network-overview.md', 'file_type': '.md'}),\n",
       " Document(page_content=\"## NSG & ASGs per scale set\\n[Network Security Groups](../virtual-network/network-security-groups-overview.md) allow you to filter traffic to and from Azure resources in an Azure virtual network using security rules. [Application Security Groups](../virtual-network/network-security-groups-overview.md#application-security-groups) enable you to handle network security of Azure resources and group them as an extension of your application's structure.\\n\\nNetwork Security Groups can be applied directly to a scale set, by adding a reference to the network interface configuration section of the scale set virtual machine properties.\\n\\nApplication Security Groups can also be specified directly to a scale set, by adding a reference to the network interface ip configurations section of the scale set virtual machine properties.\\n\\nFor example:\", metadata={'source': 'articles/virtual-machine-scale-sets/virtual-machine-scale-sets-networking.md', 'file_path': 'articles/virtual-machine-scale-sets/virtual-machine-scale-sets-networking.md', 'file_name': 'virtual-machine-scale-sets-networking.md', 'file_type': '.md'}),\n",
       " Document(page_content=\"NSGs contain two sets of rules, inbound and outbound. The priority for a rule must be unique within each set. \\n\\nEach rule has properties of:\\n\\n* Protocol\\n\\n* Source and destination port ranges\\n\\n* Address prefixes\\n\\n* Direction of traffic\\n\\n* Priority\\n\\n* Access type\\n\\nAll NSGs contain a set of default rules. You can't delete or override these default rules, as they have the lowest priority and any rules you create can't supersede them.\\n\\nWhen you associate an NSG to a NIC, the network access rules in the NSG are applied only to that NIC. If an NSG is applied to a single NIC on a multi-NIC VM, it doesn't affect traffic to the other NICs. You can associate different NSGs to a NIC (or VM, depending on the deployment model) and the subnet that a NIC or VM is bound to. Priority is given based on the direction of traffic.\\n\\nBe sure to [plan](../virtual-network/virtual-network-vnet-plan-design-arm.md) your NSGs when you plan your virtual machines and virtual network.\\n\\nThis table lists the methods that you can use to create a network security group.\", metadata={'source': 'articles/virtual-network/network-overview.md', 'file_path': 'articles/virtual-network/network-overview.md', 'file_name': 'network-overview.md', 'file_type': '.md'}),\n",
       " Document(page_content=\"## 2. Configure a network security group\\n\\nWhen you connect your lab plan to a virtual network, you need to configure a network security group (NSG) to allow inbound RDP/SSH traffic from the user's computer to the template virtual machine and the lab virtual machines. An NSG contains access control rules that allow or deny traffic based on traffic direction, protocol, source address and port, and destination address and port. \\n\\nThe rules of an NSG can be changed at any time, and changes are applied to all associated instances. It might take up to 10 minutes for the NSG changes to be effective.\\n\\n> [!IMPORTANT]\\n> If you don't configure a network security group, you won't be able to access the lab template VM and lab VMs via RDP or SSH.\\n\\nThe network security group configuration for advanced networking consists of two steps:\\n\\n1. Create a network security group that allows RDP/SSH traffic\\n1. Associate the network security group with the virtual network subnet\\n\\n[!INCLUDE [nsg intro](../../includes/virtual-networks-create-nsg-intro-include.md)]\\n\\nYou can use an NSG to control traffic to one or more virtual machines (VMs), role instances, network adapters (NICs), or subnets in your virtual network. An NSG contains access control rules that allow or deny traffic based on traffic direction, protocol, source address and port, and destination address and port. The rules of an NSG can be changed at any time, and changes are applied to all associated instances.\\n\\nFor more information about NSGs, visit [what is an NSG](/azure/virtual-network/network-security-groups-overview).\\n\\n### Create a network security group to allow traffic\\n\\nFollow these steps to create an NSG and allow inbound RDP or SSH traffic:\\n\\n1. If you don't have a network security group yet, follow these steps to [create a network security group (NSG)](/azure/virtual-network/manage-network-security-group).\\n\\n    Make sure to create the network security group in the same Azure region as the virtual network and lab plan.\", metadata={'source': 'articles/lab-services/how-to-connect-vnet-injection.md', 'file_path': 'articles/lab-services/how-to-connect-vnet-injection.md', 'file_name': 'how-to-connect-vnet-injection.md', 'file_type': '.md'}),\n",
       " Document(page_content='|NSG configuration required for Service Access| Yes (using Service Tags)| No|\\n| Service can be reached without using any public IP address                                                                                       | No                                                                                                                          | Yes                                                                                                                                                               |\\n| Azure-to-Azure traffic stays on the Azure backbone network                                                                                       | Yes                                                                                                                         | Yes                                                                                                                                                               |\\n| Service can disable its public IP address                                                                                                        | No                                                                                                                          | Yes                                                                                                                                                               |\\n| You can easily restrict traffic coming from an Azure Virtual Network                                                                             | Yes (allow access from specific subnets and or use NSGs)                                                                   | Yes                                                                                                                                                               |', metadata={'source': 'articles/virtual-network/vnet-integration-for-azure-services.md', 'file_path': 'articles/virtual-network/vnet-integration-for-azure-services.md', 'file_name': 'vnet-integration-for-azure-services.md', 'file_type': '.md'})]"
      ]
     },
     "execution_count": 24,
     "metadata": {},
     "output_type": "execute_result"
    }
   ],
   "source": [
    "unique_docs"
   ]
  },
  {
   "cell_type": "code",
   "execution_count": 25,
   "metadata": {},
   "outputs": [
    {
     "name": "stdout",
     "output_type": "stream",
     "text": [
      "Tokens: 315 in file articles/security/fundamentals/network-overview.md\n",
      "Tokens: 149 in file articles/virtual-machine-scale-sets/virtual-machine-scale-sets-networking.md\n",
      "Tokens: 236 in file articles/virtual-network/network-overview.md\n",
      "Tokens: 428 in file articles/lab-services/how-to-connect-vnet-injection.md\n",
      "Tokens: 115 in file articles/virtual-network/vnet-integration-for-azure-services.md\n",
      "\n",
      "\n",
      "***************\n",
      "Total tokens: 1243\n"
     ]
    }
   ],
   "source": [
    "import tiktoken\n",
    "encoding = tiktoken.get_encoding(\"cl100k_base\")\n",
    "\n",
    "sum_tokens = 0\n",
    "for doc in unique_docs:\n",
    "    file_name = doc.metadata[\"file_path\"]\n",
    "    num_tokens = len(encoding.encode(doc.page_content))\n",
    "    sum_tokens += num_tokens\n",
    "    print(f\"Tokens: {num_tokens} in file {file_name}\")\n",
    "\n",
    "print(f\"\\n\\n***************\\nTotal tokens: {sum_tokens}\")"
   ]
  }
 ],
 "metadata": {
  "kernelspec": {
   "display_name": "Python 3",
   "language": "python",
   "name": "python3"
  },
  "language_info": {
   "codemirror_mode": {
    "name": "ipython",
    "version": 3
   },
   "file_extension": ".py",
   "mimetype": "text/x-python",
   "name": "python",
   "nbconvert_exporter": "python",
   "pygments_lexer": "ipython3",
   "version": "3.11.2"
  },
  "orig_nbformat": 4
 },
 "nbformat": 4,
 "nbformat_minor": 2
}
