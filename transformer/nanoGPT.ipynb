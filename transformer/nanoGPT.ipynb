{
 "cells": [
  {
   "cell_type": "code",
   "execution_count": 1,
   "metadata": {},
   "outputs": [
    {
     "name": "stdout",
     "output_type": "stream",
     "text": [
      "Cloning into 'nanoGPT'...\n",
      "remote: Enumerating objects: 649, done.\u001b[K\n",
      "remote: Total 649 (delta 0), reused 0 (delta 0), pack-reused 649\u001b[K\n",
      "Receiving objects: 100% (649/649), 935.29 KiB | 5.70 MiB/s, done.\n",
      "Resolving deltas: 100% (374/374), done.\n"
     ]
    }
   ],
   "source": [
    "!git clone https://github.com/karpathy/nanoGPT.git"
   ]
  },
  {
   "cell_type": "code",
   "execution_count": 3,
   "metadata": {},
   "outputs": [
    {
     "data": {
      "text/plain": [
       "('configurator.py', <http.client.HTTPMessage at 0x7fcfb1b66740>)"
      ]
     },
     "execution_count": 3,
     "metadata": {},
     "output_type": "execute_result"
    }
   ],
   "source": [
    "# Download the nanoGPT from Andrej Karpathy's github\n",
    "import urllib.request\n",
    "base_url = \"https://github.com/karpathy/nanoGPT/raw/master/\"\n",
    "urllib.request.urlretrieve(f\"{base_url}/model.py\", \"model.py\")\n",
    "urllib.request.urlretrieve(f\"{base_url}/train.py\", \"train.py\")\n",
    "urllib.request.urlretrieve(f\"{base_url}/configurator.py\", \"configurator.py\")"
   ]
  },
  {
   "cell_type": "code",
   "execution_count": 3,
   "metadata": {},
   "outputs": [
    {
     "name": "stdout",
     "output_type": "stream",
     "text": [
      "Overriding config with configs/azure_docs_training.py:\n",
      "out_dir = 'out-test'\n",
      "eval_interval = 250 # keep frequent because we'll overfit\n",
      "eval_iters = 200\n",
      "log_interval = 10\n",
      "\n",
      "always_save_checkpoint = False\n",
      "\n",
      "wandb_log = False # override via command line if you like\n",
      "wandb_project = 'shakespeare-char'\n",
      "wandb_run_name = 'mini-gpt'\n",
      "\n",
      "dataset = 'azure_docs'\n",
      "# gradient_accumulation_steps = 1\n",
      "batch_size = 16\n",
      "block_size = 256 # context of up to 256 previous characters\n",
      "\n",
      "# # baby GPT model :)\n",
      "# n_layer = 6\n",
      "# n_head = 6\n",
      "# n_embd = 384\n",
      "# dropout = 0.2\n",
      "\n",
      "# learning_rate = 1e-3 # with baby networks can afford to go a bit higher\n",
      "max_iters = 2000\n",
      "# lr_decay_iters = 5000 # make equal to max_iters usually\n",
      "# min_lr = 1e-4 # learning_rate / 10 usually\n",
      "# beta2 = 0.99 # make a bit bigger because number of tokens per iter is small\n",
      "\n",
      "warmup_iters = 100 # not super necessary potentially\n",
      "\n",
      "# on macbook also add\n",
      "# device = 'cpu'  # run on cpu only\n",
      "# compile = False # do not torch compile the model\n",
      "\n",
      "tokens per iteration will be: 163,840\n",
      "Initializing a new model from scratch\n",
      "defaulting to vocab_size of GPT-2 to 50304 (50257 rounded up for efficiency)\n",
      "number of parameters: 123.59M\n",
      "num decayed parameter tensors: 50, with 123,764,736 parameters\n",
      "num non-decayed parameter tensors: 25, with 19,200 parameters\n",
      "using fused AdamW: True\n",
      "compiling the model... (takes a ~minute)\n",
      "step 0: train loss 10.9083, val loss 10.9293\n",
      "iter 0: loss 10.8652, time 44781.40ms, mfu -100.00%\n",
      "iter 10: loss 8.6080, time 7693.86ms, mfu 5.25%\n",
      "iter 20: loss 7.7285, time 7846.32ms, mfu 5.24%\n",
      "iter 30: loss 6.0892, time 7955.96ms, mfu 5.23%\n",
      "iter 40: loss 6.3357, time 7910.12ms, mfu 5.22%\n",
      "iter 50: loss 4.5269, time 7950.32ms, mfu 5.20%\n",
      "iter 60: loss 5.3887, time 7948.25ms, mfu 5.19%\n",
      "iter 70: loss 4.7647, time 7919.41ms, mfu 5.18%\n",
      "iter 80: loss 3.5430, time 7960.95ms, mfu 5.17%\n",
      "iter 90: loss 4.2452, time 7955.93ms, mfu 5.16%\n",
      "iter 100: loss 4.5558, time 7939.77ms, mfu 5.16%\n",
      "iter 110: loss 4.2191, time 7956.34ms, mfu 5.15%\n"
     ]
    }
   ],
   "source": [
    "!/bin/python3 train.py configs/azure_docs_training.py"
   ]
  },
  {
   "cell_type": "markdown",
   "metadata": {},
   "source": [
    "# Train GPT2 from scratch"
   ]
  },
  {
   "cell_type": "code",
   "execution_count": 10,
   "metadata": {},
   "outputs": [],
   "source": [
    "import os\n",
    "import urllib.request\n",
    "import torch"
   ]
  },
  {
   "cell_type": "markdown",
   "metadata": {},
   "source": [
    "Let's use great simple Transformer implementation minGPT by Andrey Karpathy. Have a look at model.py code to understand how layers are implemented. Note for more serious work you can use his nanoGPT (still lighweight yet a little more complex and optimized) or look at Pytorch nn.Transformer implementation and docs."
   ]
  },
  {
   "cell_type": "markdown",
   "metadata": {},
   "source": [
    "For this demo we will use vectorized text we created in training_data_preparation.ipynb. It is full snapshot of Azure documentation in Markdown."
   ]
  },
  {
   "cell_type": "code",
   "execution_count": 12,
   "metadata": {},
   "outputs": [],
   "source": [
    "# Load vectors\n",
    "train_data = torch.load(\"azure-docs-training.pt\")\n",
    "val_data = torch.load(\"azure-docs-validation.pt\")\n",
    "\n",
    "# Create a dataset class\n",
    "from torch.utils.data import Dataset\n",
    "\n",
    "class AzureDocsDataset(Dataset):\n",
    "    def __init__(self, data, block_size):\n",
    "        self.block_size = block_size\n",
    "        self.data = data\n",
    "\n",
    "    def __len__(self):\n",
    "        return len(self.data)\n",
    "\n",
    "    def __getitem__(self, idx):\n",
    "        input_seq = self.data[idx:idx + self.block_size]\n",
    "        target_seq = self.data[idx + 1:idx + self.block_size + 1]\n",
    "        return input_seq, target_seq\n",
    "\n",
    "# Instantiate the datasets    \n",
    "train_dataset = AzureDocsDataset(data=train_data, block_size=128)\n",
    "val_dataset = AzureDocsDataset(data=val_data, block_size=128)"
   ]
  },
  {
   "cell_type": "markdown",
   "metadata": {},
   "source": [
    "Here is example what it does. Let say input is 5 tokens, target is shifted by one so model needs to predict that one new token (49 in example here)."
   ]
  },
  {
   "cell_type": "code",
   "execution_count": 13,
   "metadata": {},
   "outputs": [
    {
     "data": {
      "text/plain": [
       "(tensor([   25, 22134,  5984,   311,  4303]),\n",
       " tensor([22134,  5984,   311,  4303,    49]))"
      ]
     },
     "execution_count": 13,
     "metadata": {},
     "output_type": "execute_result"
    }
   ],
   "source": [
    "AzureDocsDataset(data=train_data, block_size=5).__getitem__(3)"
   ]
  },
  {
   "cell_type": "markdown",
   "metadata": {},
   "source": [
    "Let's configure transformer. Very small model can be trained even on CPU. For NVIDIA T4 with 16GB RAM I was able to fit model of 51M params (8 layers, 8 heads, 512 embeddings). With A100 I could go full basic GPT2 size (12, 12, 768)."
   ]
  },
  {
   "cell_type": "code",
   "execution_count": 14,
   "metadata": {},
   "outputs": [
    {
     "name": "stdout",
     "output_type": "stream",
     "text": [
      "number of parameters: 123.75M\n"
     ]
    }
   ],
   "source": [
    "from mingpt.model import GPT\n",
    "\n",
    "model_config = GPT.get_default_config()\n",
    "model_config.model_type = None       # We will define hyperparameters explicitly\n",
    "model_config.n_layer = 12             # 12 for gpt2, 36 for gpt2-large, 3 or 6 for playing\n",
    "model_config.n_head = 12              # 12 for gpt2, 20 for gpt2-large, 3 or 6 for playing\n",
    "model_config.n_embd = 768            # 768 for gpt2, 1280 for gpt2-large, 48 or 192 for playing\n",
    "model_config.vocab_size = 50257      # gpt2 tokenizer is 50257\n",
    "model_config.block_size = 128\n",
    "model = GPT(model_config)"
   ]
  },
  {
   "cell_type": "code",
   "execution_count": 17,
   "metadata": {},
   "outputs": [
    {
     "name": "stdout",
     "output_type": "stream",
     "text": [
      "running on device cuda\n"
     ]
    }
   ],
   "source": [
    "from mingpt.trainer import Trainer\n",
    "\n",
    "train_config = Trainer.get_default_config()\n",
    "train_config.max_iters = 2\n",
    "train_config.num_workers = 0\n",
    "train_config.batch_size = 48  # Default 64 did not fit my NVIDIA T4 GPU with 16GB RAM for GPT2 size model\n",
    "train_config.ckpt_path = \".\"\n",
    "train_config.save_steps = 1\n",
    "trainer = Trainer(train_config, model, train_dataset)"
   ]
  },
  {
   "cell_type": "code",
   "execution_count": 18,
   "metadata": {},
   "outputs": [
    {
     "name": "stdout",
     "output_type": "stream",
     "text": [
      "iter_dt 0.00ms; iter 0: train loss 9.69587\n"
     ]
    }
   ],
   "source": [
    "def batch_end_callback(trainer):\n",
    "    if trainer.iter_num % 100 == 0:\n",
    "        print(f\"iter_dt {trainer.iter_dt * 1000:.2f}ms; iter {trainer.iter_num}: train loss {trainer.loss.item():.5f}\")\n",
    "trainer.set_callback('on_batch_end', batch_end_callback)\n",
    "\n",
    "trainer.run()"
   ]
  },
  {
   "cell_type": "code",
   "execution_count": 9,
   "metadata": {},
   "outputs": [
    {
     "data": {
      "text/markdown": [
       "To configure Azure Virtual Network \n",
       "\n",
       "For more information, see [Create managed identity for Azure VNet](https://f2.apache.noc.io/f3b.net/current/kafka).\n",
       "\n",
       "### Create a firewall\n",
       "\n",
       "1. Create a virtual network with the Azure network configuration.\n",
       "\n",
       "      To update the VNET IP address:\n",
       "\n",
       "       dscenario: \"1.0.0.0.0.0.net\n",
       "                          (<IP name=\"passwordless)  \n",
       "          * OpenShiftPort> \n",
       "                  * If you haven't set to `<i>`\n",
       "                   <pGUID=\"my-demoserver\" /> \n",
       "                       <tutorial name=\"Azure portal\" target=\"true\" />"
      ],
      "text/plain": [
       "<IPython.core.display.Markdown object>"
      ]
     },
     "execution_count": 9,
     "metadata": {},
     "output_type": "execute_result"
    }
   ],
   "source": [
    "prompt = \"To configure Azure Virtual Network \"\n",
    "\n",
    "# Tokenize the prompt\n",
    "import tiktoken\n",
    "enc = tiktoken.get_encoding(\"gpt2\")\n",
    "prompt_tokens = torch.tensor(enc.encode(prompt)).to(trainer.device)\n",
    "\n",
    "num_samples = 1\n",
    "steps = 250\n",
    "do_sample = True\n",
    "\n",
    "x = prompt_tokens.expand(num_samples, -1)\n",
    "y = model.generate(x, max_new_tokens=steps, do_sample=do_sample, top_k=40)\n",
    "\n",
    "from IPython.display import Markdown\n",
    "\n",
    "out = enc.decode(y[0].tolist())\n",
    "Markdown(out)"
   ]
  },
  {
   "cell_type": "code",
   "execution_count": 11,
   "metadata": {},
   "outputs": [],
   "source": [
    "# Save the model\n",
    "torch.save(model.state_dict(), \"xazure-docs-gpt2.pth\")"
   ]
  },
  {
   "cell_type": "code",
   "execution_count": 8,
   "metadata": {},
   "outputs": [
    {
     "ename": "AttributeError",
     "evalue": "'collections.OrderedDict' object has no attribute 'to'",
     "output_type": "error",
     "traceback": [
      "\u001b[0;31m---------------------------------------------------------------------------\u001b[0m",
      "\u001b[0;31mAttributeError\u001b[0m                            Traceback (most recent call last)",
      "Cell \u001b[0;32mIn[8], line 1\u001b[0m\n\u001b[0;32m----> 1\u001b[0m model \u001b[39m=\u001b[39m torch\u001b[39m.\u001b[39;49mload(\u001b[39m\"\u001b[39;49m\u001b[39mxazure-docs-gpt2.pth\u001b[39;49m\u001b[39m\"\u001b[39;49m)\u001b[39m.\u001b[39;49mto(\u001b[39m\"\u001b[39m\u001b[39mcuda\u001b[39m\u001b[39m\"\u001b[39m)\n",
      "\u001b[0;31mAttributeError\u001b[0m: 'collections.OrderedDict' object has no attribute 'to'"
     ]
    }
   ],
   "source": [
    "model = torch.load(\"xazure-docs-gpt2.pth\")\n"
   ]
  },
  {
   "cell_type": "code",
   "execution_count": 7,
   "metadata": {},
   "outputs": [
    {
     "ename": "RuntimeError",
     "evalue": "Expected all tensors to be on the same device, but found at least two devices, cpu and cuda:0! (when checking argument for argument index in method wrapper_CUDA__index_select)",
     "output_type": "error",
     "traceback": [
      "\u001b[0;31m---------------------------------------------------------------------------\u001b[0m",
      "\u001b[0;31mRuntimeError\u001b[0m                              Traceback (most recent call last)",
      "Cell \u001b[0;32mIn[7], line 13\u001b[0m\n\u001b[1;32m     10\u001b[0m do_sample \u001b[39m=\u001b[39m \u001b[39mTrue\u001b[39;00m\n\u001b[1;32m     12\u001b[0m x \u001b[39m=\u001b[39m prompt_tokens\u001b[39m.\u001b[39mexpand(num_samples, \u001b[39m-\u001b[39m\u001b[39m1\u001b[39m)\n\u001b[0;32m---> 13\u001b[0m y \u001b[39m=\u001b[39m model\u001b[39m.\u001b[39;49mgenerate(x, max_new_tokens\u001b[39m=\u001b[39;49msteps, do_sample\u001b[39m=\u001b[39;49mdo_sample, top_k\u001b[39m=\u001b[39;49m\u001b[39m40\u001b[39;49m)\n\u001b[1;32m     15\u001b[0m \u001b[39mfrom\u001b[39;00m \u001b[39mIPython\u001b[39;00m\u001b[39m.\u001b[39;00m\u001b[39mdisplay\u001b[39;00m \u001b[39mimport\u001b[39;00m Markdown\n\u001b[1;32m     17\u001b[0m out \u001b[39m=\u001b[39m enc\u001b[39m.\u001b[39mdecode(y[\u001b[39m0\u001b[39m]\u001b[39m.\u001b[39mtolist())\n",
      "File \u001b[0;32m~/.local/lib/python3.10/site-packages/torch/utils/_contextlib.py:115\u001b[0m, in \u001b[0;36mcontext_decorator.<locals>.decorate_context\u001b[0;34m(*args, **kwargs)\u001b[0m\n\u001b[1;32m    112\u001b[0m \u001b[39m@functools\u001b[39m\u001b[39m.\u001b[39mwraps(func)\n\u001b[1;32m    113\u001b[0m \u001b[39mdef\u001b[39;00m \u001b[39mdecorate_context\u001b[39m(\u001b[39m*\u001b[39margs, \u001b[39m*\u001b[39m\u001b[39m*\u001b[39mkwargs):\n\u001b[1;32m    114\u001b[0m     \u001b[39mwith\u001b[39;00m ctx_factory():\n\u001b[0;32m--> 115\u001b[0m         \u001b[39mreturn\u001b[39;00m func(\u001b[39m*\u001b[39;49margs, \u001b[39m*\u001b[39;49m\u001b[39m*\u001b[39;49mkwargs)\n",
      "File \u001b[0;32m~/ai-demos/transformer/mingpt/model.py:293\u001b[0m, in \u001b[0;36mGPT.generate\u001b[0;34m(self, idx, max_new_tokens, temperature, do_sample, top_k)\u001b[0m\n\u001b[1;32m    291\u001b[0m idx_cond \u001b[39m=\u001b[39m idx \u001b[39mif\u001b[39;00m idx\u001b[39m.\u001b[39msize(\u001b[39m1\u001b[39m) \u001b[39m<\u001b[39m\u001b[39m=\u001b[39m \u001b[39mself\u001b[39m\u001b[39m.\u001b[39mblock_size \u001b[39melse\u001b[39;00m idx[:, \u001b[39m-\u001b[39m\u001b[39mself\u001b[39m\u001b[39m.\u001b[39mblock_size:]\n\u001b[1;32m    292\u001b[0m \u001b[39m# forward the model to get the logits for the index in the sequence\u001b[39;00m\n\u001b[0;32m--> 293\u001b[0m logits, _ \u001b[39m=\u001b[39m \u001b[39mself\u001b[39;49m(idx_cond)\n\u001b[1;32m    294\u001b[0m \u001b[39m# pluck the logits at the final step and scale by desired temperature\u001b[39;00m\n\u001b[1;32m    295\u001b[0m logits \u001b[39m=\u001b[39m logits[:, \u001b[39m-\u001b[39m\u001b[39m1\u001b[39m, :] \u001b[39m/\u001b[39m temperature\n",
      "File \u001b[0;32m~/.local/lib/python3.10/site-packages/torch/nn/modules/module.py:1501\u001b[0m, in \u001b[0;36mModule._call_impl\u001b[0;34m(self, *args, **kwargs)\u001b[0m\n\u001b[1;32m   1496\u001b[0m \u001b[39m# If we don't have any hooks, we want to skip the rest of the logic in\u001b[39;00m\n\u001b[1;32m   1497\u001b[0m \u001b[39m# this function, and just call forward.\u001b[39;00m\n\u001b[1;32m   1498\u001b[0m \u001b[39mif\u001b[39;00m \u001b[39mnot\u001b[39;00m (\u001b[39mself\u001b[39m\u001b[39m.\u001b[39m_backward_hooks \u001b[39mor\u001b[39;00m \u001b[39mself\u001b[39m\u001b[39m.\u001b[39m_backward_pre_hooks \u001b[39mor\u001b[39;00m \u001b[39mself\u001b[39m\u001b[39m.\u001b[39m_forward_hooks \u001b[39mor\u001b[39;00m \u001b[39mself\u001b[39m\u001b[39m.\u001b[39m_forward_pre_hooks\n\u001b[1;32m   1499\u001b[0m         \u001b[39mor\u001b[39;00m _global_backward_pre_hooks \u001b[39mor\u001b[39;00m _global_backward_hooks\n\u001b[1;32m   1500\u001b[0m         \u001b[39mor\u001b[39;00m _global_forward_hooks \u001b[39mor\u001b[39;00m _global_forward_pre_hooks):\n\u001b[0;32m-> 1501\u001b[0m     \u001b[39mreturn\u001b[39;00m forward_call(\u001b[39m*\u001b[39;49margs, \u001b[39m*\u001b[39;49m\u001b[39m*\u001b[39;49mkwargs)\n\u001b[1;32m   1502\u001b[0m \u001b[39m# Do not call functions when jit is used\u001b[39;00m\n\u001b[1;32m   1503\u001b[0m full_backward_hooks, non_full_backward_hooks \u001b[39m=\u001b[39m [], []\n",
      "File \u001b[0;32m~/ai-demos/transformer/mingpt/model.py:267\u001b[0m, in \u001b[0;36mGPT.forward\u001b[0;34m(self, idx, targets)\u001b[0m\n\u001b[1;32m    264\u001b[0m pos \u001b[39m=\u001b[39m torch\u001b[39m.\u001b[39marange(\u001b[39m0\u001b[39m, t, dtype\u001b[39m=\u001b[39mtorch\u001b[39m.\u001b[39mlong, device\u001b[39m=\u001b[39mdevice)\u001b[39m.\u001b[39munsqueeze(\u001b[39m0\u001b[39m) \u001b[39m# shape (1, t)\u001b[39;00m\n\u001b[1;32m    266\u001b[0m \u001b[39m# forward the GPT model itself\u001b[39;00m\n\u001b[0;32m--> 267\u001b[0m tok_emb \u001b[39m=\u001b[39m \u001b[39mself\u001b[39;49m\u001b[39m.\u001b[39;49mtransformer\u001b[39m.\u001b[39;49mwte(idx) \u001b[39m# token embeddings of shape (b, t, n_embd)\u001b[39;00m\n\u001b[1;32m    268\u001b[0m pos_emb \u001b[39m=\u001b[39m \u001b[39mself\u001b[39m\u001b[39m.\u001b[39mtransformer\u001b[39m.\u001b[39mwpe(pos) \u001b[39m# position embeddings of shape (1, t, n_embd)\u001b[39;00m\n\u001b[1;32m    269\u001b[0m x \u001b[39m=\u001b[39m \u001b[39mself\u001b[39m\u001b[39m.\u001b[39mtransformer\u001b[39m.\u001b[39mdrop(tok_emb \u001b[39m+\u001b[39m pos_emb)\n",
      "File \u001b[0;32m~/.local/lib/python3.10/site-packages/torch/nn/modules/module.py:1501\u001b[0m, in \u001b[0;36mModule._call_impl\u001b[0;34m(self, *args, **kwargs)\u001b[0m\n\u001b[1;32m   1496\u001b[0m \u001b[39m# If we don't have any hooks, we want to skip the rest of the logic in\u001b[39;00m\n\u001b[1;32m   1497\u001b[0m \u001b[39m# this function, and just call forward.\u001b[39;00m\n\u001b[1;32m   1498\u001b[0m \u001b[39mif\u001b[39;00m \u001b[39mnot\u001b[39;00m (\u001b[39mself\u001b[39m\u001b[39m.\u001b[39m_backward_hooks \u001b[39mor\u001b[39;00m \u001b[39mself\u001b[39m\u001b[39m.\u001b[39m_backward_pre_hooks \u001b[39mor\u001b[39;00m \u001b[39mself\u001b[39m\u001b[39m.\u001b[39m_forward_hooks \u001b[39mor\u001b[39;00m \u001b[39mself\u001b[39m\u001b[39m.\u001b[39m_forward_pre_hooks\n\u001b[1;32m   1499\u001b[0m         \u001b[39mor\u001b[39;00m _global_backward_pre_hooks \u001b[39mor\u001b[39;00m _global_backward_hooks\n\u001b[1;32m   1500\u001b[0m         \u001b[39mor\u001b[39;00m _global_forward_hooks \u001b[39mor\u001b[39;00m _global_forward_pre_hooks):\n\u001b[0;32m-> 1501\u001b[0m     \u001b[39mreturn\u001b[39;00m forward_call(\u001b[39m*\u001b[39;49margs, \u001b[39m*\u001b[39;49m\u001b[39m*\u001b[39;49mkwargs)\n\u001b[1;32m   1502\u001b[0m \u001b[39m# Do not call functions when jit is used\u001b[39;00m\n\u001b[1;32m   1503\u001b[0m full_backward_hooks, non_full_backward_hooks \u001b[39m=\u001b[39m [], []\n",
      "File \u001b[0;32m~/.local/lib/python3.10/site-packages/torch/nn/modules/sparse.py:162\u001b[0m, in \u001b[0;36mEmbedding.forward\u001b[0;34m(self, input)\u001b[0m\n\u001b[1;32m    161\u001b[0m \u001b[39mdef\u001b[39;00m \u001b[39mforward\u001b[39m(\u001b[39mself\u001b[39m, \u001b[39minput\u001b[39m: Tensor) \u001b[39m-\u001b[39m\u001b[39m>\u001b[39m Tensor:\n\u001b[0;32m--> 162\u001b[0m     \u001b[39mreturn\u001b[39;00m F\u001b[39m.\u001b[39;49membedding(\n\u001b[1;32m    163\u001b[0m         \u001b[39minput\u001b[39;49m, \u001b[39mself\u001b[39;49m\u001b[39m.\u001b[39;49mweight, \u001b[39mself\u001b[39;49m\u001b[39m.\u001b[39;49mpadding_idx, \u001b[39mself\u001b[39;49m\u001b[39m.\u001b[39;49mmax_norm,\n\u001b[1;32m    164\u001b[0m         \u001b[39mself\u001b[39;49m\u001b[39m.\u001b[39;49mnorm_type, \u001b[39mself\u001b[39;49m\u001b[39m.\u001b[39;49mscale_grad_by_freq, \u001b[39mself\u001b[39;49m\u001b[39m.\u001b[39;49msparse)\n",
      "File \u001b[0;32m~/.local/lib/python3.10/site-packages/torch/nn/functional.py:2210\u001b[0m, in \u001b[0;36membedding\u001b[0;34m(input, weight, padding_idx, max_norm, norm_type, scale_grad_by_freq, sparse)\u001b[0m\n\u001b[1;32m   2204\u001b[0m     \u001b[39m# Note [embedding_renorm set_grad_enabled]\u001b[39;00m\n\u001b[1;32m   2205\u001b[0m     \u001b[39m# XXX: equivalent to\u001b[39;00m\n\u001b[1;32m   2206\u001b[0m     \u001b[39m# with torch.no_grad():\u001b[39;00m\n\u001b[1;32m   2207\u001b[0m     \u001b[39m#   torch.embedding_renorm_\u001b[39;00m\n\u001b[1;32m   2208\u001b[0m     \u001b[39m# remove once script supports set_grad_enabled\u001b[39;00m\n\u001b[1;32m   2209\u001b[0m     _no_grad_embedding_renorm_(weight, \u001b[39minput\u001b[39m, max_norm, norm_type)\n\u001b[0;32m-> 2210\u001b[0m \u001b[39mreturn\u001b[39;00m torch\u001b[39m.\u001b[39;49membedding(weight, \u001b[39minput\u001b[39;49m, padding_idx, scale_grad_by_freq, sparse)\n",
      "\u001b[0;31mRuntimeError\u001b[0m: Expected all tensors to be on the same device, but found at least two devices, cpu and cuda:0! (when checking argument for argument index in method wrapper_CUDA__index_select)"
     ]
    }
   ],
   "source": [
    "prompt = \"To configure Azure Virtual Network \"\n",
    "\n",
    "# Tokenize the prompt\n",
    "import tiktoken\n",
    "enc = tiktoken.get_encoding(\"gpt2\")\n",
    "prompt_tokens = torch.tensor(enc.encode(prompt)).to(\"cuda\")\n",
    "\n",
    "num_samples = 1\n",
    "steps = 250\n",
    "do_sample = True\n",
    "\n",
    "x = prompt_tokens.expand(num_samples, -1)\n",
    "y = model.generate(x, max_new_tokens=steps, do_sample=do_sample, top_k=40)\n",
    "\n",
    "from IPython.display import Markdown\n",
    "\n",
    "out = enc.decode(y[0].tolist())\n",
    "Markdown(out)"
   ]
  }
 ],
 "metadata": {
  "kernelspec": {
   "display_name": "Python 3",
   "language": "python",
   "name": "python3"
  },
  "language_info": {
   "codemirror_mode": {
    "name": "ipython",
    "version": 3
   },
   "file_extension": ".py",
   "mimetype": "text/x-python",
   "name": "python",
   "nbconvert_exporter": "python",
   "pygments_lexer": "ipython3",
   "version": "3.10.12"
  },
  "orig_nbformat": 4
 },
 "nbformat": 4,
 "nbformat_minor": 2
}
