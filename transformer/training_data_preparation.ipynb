{
 "cells": [
  {
   "cell_type": "markdown",
   "metadata": {},
   "source": [
    "# Downloading and preparing data"
   ]
  },
  {
   "cell_type": "markdown",
   "metadata": {},
   "source": [
    "### Download full open source Azure documentation by cloning the repository from GitHub. "
   ]
  },
  {
   "cell_type": "code",
   "execution_count": null,
   "metadata": {},
   "outputs": [],
   "source": [
    "!git clone --depth 1 --branch main https://github.com/MicrosoftDocs/azure-docs.git "
   ]
  },
  {
   "cell_type": "markdown",
   "metadata": {},
   "source": [
    "### Concat all documentation Markdown files into single big file"
   ]
  },
  {
   "cell_type": "code",
   "execution_count": null,
   "metadata": {},
   "outputs": [],
   "source": [
    "import glob\n",
    "\n",
    "processed_count = 0\n",
    "\n",
    "for file in glob.glob(\"./azure-docs/articles/**/*.md\", recursive=True):\n",
    "    try:\n",
    "        print(f\"Processing {file}\")\n",
    "        with open(file, \"r\", encoding=\"utf-8\") as f:\n",
    "            content = f.read()\n",
    "        with open(\"azure-docs.md\", \"a\", encoding=\"utf-8\") as f:\n",
    "            f.write(content)\n",
    "        processed_count += 1\n",
    "    except (UnicodeDecodeError, OSError):\n",
    "        print(f\"Skipping {file}\")\n",
    "\n",
    "print(f\"Processed {processed_count} files\")"
   ]
  },
  {
   "cell_type": "markdown",
   "metadata": {},
   "source": [
    "### Split file into training and validation set"
   ]
  },
  {
   "cell_type": "code",
   "execution_count": 5,
   "metadata": {},
   "outputs": [],
   "source": [
    "with open(\"azure-docs.md\", \"r\", encoding=\"utf-8\") as f:\n",
    "    content = f.read()\n",
    "\n",
    "# Split the content into training and validation sets\n",
    "split_index = int(len(content) * 0.9)\n",
    "training_content = content[:split_index]\n",
    "validation_content = content[split_index:]\n",
    "\n",
    "# Write the training and validation sets to separate files\n",
    "with open(\"azure-docs-training.md\", \"w\", encoding=\"utf-8\") as f:\n",
    "    f.write(training_content)\n",
    "\n",
    "with open(\"azure-docs-validation.md\", \"w\", encoding=\"utf-8\") as f:\n",
    "    f.write(validation_content)"
   ]
  },
  {
   "cell_type": "markdown",
   "metadata": {},
   "source": [
    "### Tokenize and save training data"
   ]
  },
  {
   "cell_type": "code",
   "execution_count": 8,
   "metadata": {},
   "outputs": [],
   "source": [
    "import tiktoken\n",
    "import torch\n",
    "\n",
    "# Select GPT2 tokenization\n",
    "enc = tiktoken.get_encoding(\"gpt2\")\n",
    "\n",
    "# Get tokens for validation data\n",
    "with open(\"azure-docs-validation.md\", \"r\", encoding=\"utf-8\") as f:\n",
    "    validation = torch.tensor(enc.encode(f.read()))\n",
    "torch.save(validation, \"azure-docs-validation.pt\")\n",
    "\n",
    "# Get tokens for training data\n",
    "with open(\"azure-docs-training.md\", \"r\", encoding=\"utf-8\") as f:\n",
    "    training = torch.tensor(enc.encode(f.read()))\n",
    "torch.save(training, \"azure-docs-training.pt\")"
   ]
  },
  {
   "cell_type": "code",
   "execution_count": 16,
   "metadata": {},
   "outputs": [
    {
     "name": "stdout",
     "output_type": "stream",
     "text": [
      "Validation set is 7846459 tokens\n",
      "Training set is 72299304 tokens\n"
     ]
    }
   ],
   "source": [
    "print(f\"Validation set is {validation.shape[0]} tokens\")\n",
    "print(f\"Training set is {training.shape[0]} tokens\")"
   ]
  }
 ],
 "metadata": {
  "kernelspec": {
   "display_name": "Python 3",
   "language": "python",
   "name": "python3"
  },
  "language_info": {
   "codemirror_mode": {
    "name": "ipython",
    "version": 3
   },
   "file_extension": ".py",
   "mimetype": "text/x-python",
   "name": "python",
   "nbconvert_exporter": "python",
   "pygments_lexer": "ipython3",
   "version": "3.11.2"
  },
  "orig_nbformat": 4
 },
 "nbformat": 4,
 "nbformat_minor": 2
}
