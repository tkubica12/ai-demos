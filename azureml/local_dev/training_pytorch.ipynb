{
 "cells": [
  {
   "cell_type": "code",
   "execution_count": 3,
   "metadata": {},
   "outputs": [],
   "source": [
    "import pandas as pd\n",
    "import numpy as np\n",
    "import torch\n",
    "from torch import nn\n",
    "from torchmetrics.classification import BinaryAccuracy"
   ]
  },
  {
   "cell_type": "code",
   "execution_count": 11,
   "metadata": {},
   "outputs": [],
   "source": [
    "\n",
    "# Load data\n",
    "X_train = np.loadtxt(\"./X_train.csv\", delimiter=\",\", dtype=float)\n",
    "X_test = np.loadtxt(\"./X_test.csv\", delimiter=\",\", dtype=float)\n",
    "y_train = np.loadtxt(\"./y_train.csv\", delimiter=\",\", dtype=float)\n",
    "y_test = np.loadtxt(\"./y_test.csv\", delimiter=\",\", dtype=float)"
   ]
  },
  {
   "cell_type": "code",
   "execution_count": 14,
   "metadata": {},
   "outputs": [
    {
     "name": "stderr",
     "output_type": "stream",
     "text": [
      "C:\\Users\\tokubica\\AppData\\Local\\Temp\\ipykernel_19228\\3402302031.py:1: UserWarning: To copy construct from a tensor, it is recommended to use sourceTensor.clone().detach() or sourceTensor.clone().detach().requires_grad_(True), rather than torch.tensor(sourceTensor).\n",
      "  X_train = torch.tensor(X_train, dtype=torch.float32)\n"
     ]
    }
   ],
   "source": [
    "X_train = torch.tensor(X_train, dtype=torch.float32)\n",
    "y_train = torch.tensor(y_train, dtype=torch.float32).reshape(-1, 1)\n",
    "X_test = torch.tensor(X_test, dtype=torch.float32)\n",
    "y_test = torch.tensor(y_test, dtype=torch.float32).reshape(-1, 1)"
   ]
  },
  {
   "cell_type": "code",
   "execution_count": 21,
   "metadata": {},
   "outputs": [
    {
     "data": {
      "text/plain": [
       "(torch.Size([316175, 80]),\n",
       " torch.Size([316175, 1]),\n",
       " torch.Size([79044, 80]),\n",
       " torch.Size([79044, 1]))"
      ]
     },
     "execution_count": 21,
     "metadata": {},
     "output_type": "execute_result"
    }
   ],
   "source": [
    "X_train.shape, y_train.shape, X_test.shape, y_test.shape"
   ]
  },
  {
   "cell_type": "code",
   "execution_count": 22,
   "metadata": {},
   "outputs": [],
   "source": [
    "# Create model\n",
    "model = nn.Sequential(\n",
    "    nn.Linear(80, 40),\n",
    "    nn.LayerNorm(40),\n",
    "    nn.ReLU(),\n",
    "    nn.Linear(40, 20),\n",
    "    nn.ReLU(),\n",
    "    nn.Linear(20, 10),\n",
    "    nn.ReLU(),\n",
    "    nn.Linear(10, 1),\n",
    "    nn.Sigmoid(),\n",
    ")\n",
    "\n",
    "# Define loss function\n",
    "loss_function = nn.BCELoss()\n",
    "optimizer = torch.optim.Adam(model.parameters(), lr=0.01)\n"
   ]
  },
  {
   "cell_type": "code",
   "execution_count": 23,
   "metadata": {},
   "outputs": [],
   "source": [
    "\n",
    "# Train model\n",
    "epochs = 2000\n",
    "batch_size = 1000\n",
    "losses = []\n",
    "losses_val = []\n",
    "accuracies = []\n",
    "accuracies_val = []\n",
    "measure_accuracy = BinaryAccuracy()\n",
    "best_val_accuracy = 0.0\n",
    "early_stop_patience = 5\n",
    "early_stop_counter = 0\n",
    "\n",
    "# Create dataset and loader\n",
    "train_dataset = torch.utils.data.TensorDataset(X_train, y_train)\n",
    "train_loader = torch.utils.data.DataLoader(\n",
    "    train_dataset, batch_size=batch_size, shuffle=True\n",
    ")\n"
   ]
  },
  {
   "cell_type": "code",
   "execution_count": 24,
   "metadata": {},
   "outputs": [
    {
     "name": "stdout",
     "output_type": "stream",
     "text": [
      "epoch: 0  loss: 0.34584638 val_loss: 0.28053796 accuracy: 0.85142857 val_accuracy: 0.88816357\n",
      "epoch: 1  loss: 0.27333695 val_loss: 0.26875427 accuracy: 0.89714283 val_accuracy: 0.88870758\n",
      "epoch: 2  loss: 0.28632250 val_loss: 0.26728269 accuracy: 0.85714287 val_accuracy: 0.88856840\n",
      "epoch: 3  loss: 0.23953845 val_loss: 0.26218408 accuracy: 0.90857142 val_accuracy: 0.88889730\n",
      "epoch: 4  loss: 0.27422708 val_loss: 0.26639074 accuracy: 0.87428570 val_accuracy: 0.88744241\n",
      "epoch: 5  loss: 0.20336471 val_loss: 0.26022887 accuracy: 0.93142855 val_accuracy: 0.88901120\n",
      "epoch: 6  loss: 0.26233146 val_loss: 0.26108950 accuracy: 0.88000000 val_accuracy: 0.88894790\n",
      "epoch: 7  loss: 0.25390762 val_loss: 0.26133147 accuracy: 0.89714283 val_accuracy: 0.88894790\n",
      "epoch: 8  loss: 0.22811857 val_loss: 0.25924847 accuracy: 0.90857142 val_accuracy: 0.88888466\n",
      "epoch: 9  loss: 0.22042516 val_loss: 0.25958446 accuracy: 0.89714283 val_accuracy: 0.88866961\n",
      "epoch: 10  loss: 0.17372759 val_loss: 0.25907132 accuracy: 0.93714285 val_accuracy: 0.88887203\n",
      "Early stopping at epoch 10, best validation accuracy: 0.8890112042427063\n"
     ]
    }
   ],
   "source": [
    "\n",
    "# Train\n",
    "for epoch in range(epochs):\n",
    "    # Iterate over the data in batches\n",
    "    for X_batch, y_batch in train_loader:\n",
    "        # Forward pass - get predictions for train\n",
    "        y_train_pred = model.forward(X_batch)\n",
    "\n",
    "        # Calculate loss\n",
    "        loss = loss_function(y_train_pred, y_batch)\n",
    "\n",
    "        # Calculate other metrics\n",
    "        accuracy = measure_accuracy(y_train_pred, y_batch)\n",
    "\n",
    "        # Save metrics and print\n",
    "        losses.append(loss)\n",
    "        accuracies.append(accuracy)\n",
    "\n",
    "        # Backprop\n",
    "        optimizer.zero_grad()\n",
    "        loss.backward()\n",
    "        optimizer.step()\n",
    "\n",
    "    # Calculate validation loss and accuracy\n",
    "    with torch.no_grad():\n",
    "        y_test_pred = model.forward(X_test)\n",
    "        val_loss = loss_function(y_test_pred, y_test)\n",
    "        val_accuracy = measure_accuracy(y_test_pred, y_test)\n",
    "\n",
    "    # Early stopping\n",
    "    if val_accuracy >= best_val_accuracy:\n",
    "        best_val_accuracy = val_accuracy\n",
    "        early_stop_counter = 0\n",
    "        best_model = model.state_dict()\n",
    "    else:\n",
    "        early_stop_counter += 1\n",
    "\n",
    "    # Save metrics and print\n",
    "    losses_val.append(val_loss)\n",
    "    accuracies_val.append(val_accuracy)\n",
    "    print(\n",
    "        f\"epoch: {epoch}  loss: {losses[-1].item():10.8f} val_loss: {val_loss.item():10.8f} accuracy: {accuracies[-1].item():10.8f} val_accuracy: {val_accuracy.item():10.8f}\"\n",
    "    )\n",
    "\n",
    "    # Check early stopping\n",
    "    if early_stop_counter >= early_stop_patience:\n",
    "        print(\n",
    "            f\"Early stopping at epoch {epoch}, best validation accuracy: {best_val_accuracy}\"\n",
    "        )\n",
    "        break\n"
   ]
  },
  {
   "cell_type": "code",
   "execution_count": null,
   "metadata": {},
   "outputs": [],
   "source": []
  }
 ],
 "metadata": {
  "kernelspec": {
   "display_name": "Python 3",
   "language": "python",
   "name": "python3"
  },
  "language_info": {
   "codemirror_mode": {
    "name": "ipython",
    "version": 3
   },
   "file_extension": ".py",
   "mimetype": "text/x-python",
   "name": "python",
   "nbconvert_exporter": "python",
   "pygments_lexer": "ipython3",
   "version": "3.11.2"
  },
  "orig_nbformat": 4
 },
 "nbformat": 4,
 "nbformat_minor": 2
}
