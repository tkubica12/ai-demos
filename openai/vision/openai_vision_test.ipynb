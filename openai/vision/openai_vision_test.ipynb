{
 "cells": [
  {
   "cell_type": "markdown",
   "metadata": {},
   "source": [
    "# OpenAI multimodal GPT Vision model"
   ]
  },
  {
   "cell_type": "code",
   "execution_count": 2,
   "metadata": {},
   "outputs": [
    {
     "data": {
      "text/plain": [
       "True"
      ]
     },
     "execution_count": 2,
     "metadata": {},
     "output_type": "execute_result"
    }
   ],
   "source": [
    "import dotenv\n",
    "\n",
    "dotenv.load_dotenv()"
   ]
  },
  {
   "cell_type": "code",
   "execution_count": 3,
   "metadata": {},
   "outputs": [],
   "source": [
    "from openai import OpenAI\n",
    "client = OpenAI()"
   ]
  },
  {
   "cell_type": "code",
   "execution_count": 8,
   "metadata": {},
   "outputs": [
    {
     "name": "stdout",
     "output_type": "stream",
     "text": [
      "The image shows a wooden boardwalk extending through a vibrant green field, likely a wetland or marsh area where such walkways are commonly installed to enable passage without disturbing the ecosystem. The weather is fair with a mostly blue sky scattered with some light clouds, indicating it might be a pleasant day. Surrounding the boardwalk on both sides is tall, dense grass, and in the distance, there are trees and bushes. It's a scenic natural landscape image that evokes a sense of tranquility and might be a habitat for various wildlife species.\n"
     ]
    }
   ],
   "source": [
    "response = client.chat.completions.create(\n",
    "  model=\"gpt-4-vision-preview\",\n",
    "  messages=[\n",
    "    {\n",
    "      \"role\": \"user\",\n",
    "      \"content\": [\n",
    "        {\"type\": \"text\", \"text\": \"What’s in this image?\"},\n",
    "        {\n",
    "          \"type\": \"image_url\",\n",
    "          \"image_url\": {\n",
    "            \"url\": \"https://upload.wikimedia.org/wikipedia/commons/thumb/d/dd/Gfp-wisconsin-madison-the-nature-boardwalk.jpg/2560px-Gfp-wisconsin-madison-the-nature-boardwalk.jpg\",\n",
    "          },\n",
    "        },\n",
    "      ],\n",
    "    }\n",
    "  ],\n",
    "  max_tokens=300,\n",
    ")\n",
    "\n",
    "output = response.choices[0].message.content\n",
    "print(output)"
   ]
  },
  {
   "cell_type": "markdown",
   "metadata": {},
   "source": [
    "![](https://upload.wikimedia.org/wikipedia/commons/thumb/d/dd/Gfp-wisconsin-madison-the-nature-boardwalk.jpg/2560px-Gfp-wisconsin-madison-the-nature-boardwalk.jpg)\n",
    "\n",
    "### OpenAI response:\n",
    "The image shows a wooden boardwalk extending through a vibrant green field, likely a wetland or marsh area where such walkways are commonly installed to enable passage without disturbing the ecosystem. The weather is fair with a mostly blue sky scattered with some light clouds, indicating it might be a pleasant day. Surrounding the boardwalk on both sides is tall, dense grass, and in the distance, there are trees and bushes. It's a scenic natural landscape image that evokes a sense of tranquility and might be a habitat for various wildlife species.\n",
    "\n",
    "### Azure Vision captions:\n",
    "A wooden walkway through a field of grass\n",
    "\n",
    "### Azure Vision dense captions:\n",
    "- A wooden walkway through a field of grass\n",
    "- A wooden walkway through tall grass\n",
    "- A blue sky with white clouds\n",
    "- A wooden path through a grassy field\n",
    "- A close-up of a field of grass\n",
    "- A blue sky with clouds\n",
    "\n",
    "### Azure vision dense captions feeded into OpenAI GPT-4 to generate rich text:\n",
    "\n",
    "System message: Your task is to generate informative description of what is on picture. You inputs for it are dense captions from image recognition service. You will get description of different objects on picture and your task is to create overall rich description.\n",
    "\n",
    "Prompt: (dense captions from Azure Vision)\n",
    "\n",
    "Response:\n",
    "\n",
    "The picture features a serene, natural landscape. Dominating the scene is a beautiful field of tall, lush green grass, swaying gently in the breeze. The grassland appears to be endless, extending as far as the eye can see. Winding through this verdant expanse is a rustic wooden walkway, creating a charming path that invites one to explore the tranquility of the field. Above, the sky is a pure, brilliant blue, lightly speckled with soft, white clouds, adding an element of majesty and vastness to the scene. The image offers a close-up perspective of the grass, showcasing its vibrancy and texture. Overall, the picture exudes a sense of peace and simplicity, with the wooden path serving as a symbol of journey and exploration."
   ]
  }
 ],
 "metadata": {
  "kernelspec": {
   "display_name": "Python 3",
   "language": "python",
   "name": "python3"
  },
  "language_info": {
   "codemirror_mode": {
    "name": "ipython",
    "version": 3
   },
   "file_extension": ".py",
   "mimetype": "text/x-python",
   "name": "python",
   "nbconvert_exporter": "python",
   "pygments_lexer": "ipython3",
   "version": "3.11.2"
  }
 },
 "nbformat": 4,
 "nbformat_minor": 2
}
