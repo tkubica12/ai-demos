{
 "cells": [
  {
   "cell_type": "markdown",
   "metadata": {},
   "source": [
    "# OpenAI multimodal GPT Vision model"
   ]
  },
  {
   "cell_type": "code",
   "execution_count": 2,
   "metadata": {},
   "outputs": [
    {
     "data": {
      "text/plain": [
       "True"
      ]
     },
     "execution_count": 2,
     "metadata": {},
     "output_type": "execute_result"
    }
   ],
   "source": [
    "import dotenv\n",
    "\n",
    "dotenv.load_dotenv()"
   ]
  },
  {
   "cell_type": "code",
   "execution_count": 3,
   "metadata": {},
   "outputs": [],
   "source": [
    "from openai import OpenAI\n",
    "client = OpenAI()"
   ]
  },
  {
   "cell_type": "code",
   "execution_count": 17,
   "metadata": {},
   "outputs": [],
   "source": [
    "urls = [\n",
    "    \"https://github.com/tkubica12/ai-demos/blob/main/openai/vision/images/000000000139.jpg?raw=true\",\n",
    "    \"https://github.com/tkubica12/ai-demos/blob/main/openai/vision/images/000000000285.jpg?raw=true\",\n",
    "    \"https://github.com/tkubica12/ai-demos/blob/main/openai/vision/images/000000000632.jpg?raw=true\",\n",
    "    \"https://github.com/tkubica12/ai-demos/blob/main/openai/vision/images/000000000724.jpg?raw=true\",\n",
    "    \"https://github.com/tkubica12/ai-demos/blob/main/openai/vision/images/000000000776.jpg?raw=true\",\n",
    "    \"https://github.com/tkubica12/ai-demos/blob/main/openai/vision/images/000000000785.jpg?raw=true\",\n",
    "]\n",
    "\n",
    "outputs = []\n",
    "\n",
    "for url in urls:\n",
    "  response = client.chat.completions.create(\n",
    "    model=\"gpt-4-vision-preview\",\n",
    "    messages=[\n",
    "      {\n",
    "        \"role\": \"user\",\n",
    "        \"content\": [\n",
    "          {\"type\": \"text\", \"text\": \"What is in this image? Return response as Markdown.\"},\n",
    "          {\n",
    "            \"type\": \"image_url\",\n",
    "            \"image_url\": {\n",
    "              \"url\": url,\n",
    "            },\n",
    "          },\n",
    "        ],\n",
    "      }\n",
    "    ],\n",
    "    max_tokens=300,\n",
    "  )\n",
    "\n",
    "  outputs.append(response.choices[0].message.content)"
   ]
  },
  {
   "cell_type": "code",
   "execution_count": 18,
   "metadata": {},
   "outputs": [
    {
     "data": {
      "text/html": [
       "<img src=\"https://github.com/tkubica12/ai-demos/blob/main/openai/vision/images/000000000139.jpg?raw=true\"/>"
      ],
      "text/plain": [
       "<IPython.core.display.Image object>"
      ]
     },
     "metadata": {},
     "output_type": "display_data"
    },
    {
     "data": {
      "text/markdown": [
       "Here's a description of the image in Markdown format:\n",
       "\n",
       "```markdown\n",
       "![Interior of a modern living space](image-url)\n",
       "\n",
       "- The photo showcases a cozy and vibrant living area leading to a kitchen space.\n",
       "- Warm yellow walls are complemented by an accent green wall in the kitchen.\n",
       "- A sleek, flat-screen television is situated on a low-profile TV stand to the left.\n",
       "- A dining area is positioned by the windows, furnished with a rectangular table and several chairs.\n",
       "- Natural light from outside filters in through the large windows, illuminating the room.\n",
       "- There appears to be at least one person standing in the kitchen area.\n",
       "- Decorative elements, including a ceiling light fixture, wall-mounted shelves, and various small plants, add a homely feel.\n",
       "- A bright area rug partially covers the polished wooden floor in the foreground.\n",
       "- A distinctive, slim yellow vase is visible on a small table in the foreground.\n",
       "```\n",
       "\n",
       "(Note: \"image-url\" would be replaced with the actual URL of the image.)"
      ],
      "text/plain": [
       "<IPython.core.display.Markdown object>"
      ]
     },
     "metadata": {},
     "output_type": "display_data"
    },
    {
     "data": {
      "text/html": [
       "<img src=\"https://github.com/tkubica12/ai-demos/blob/main/openai/vision/images/000000000285.jpg?raw=true\"/>"
      ],
      "text/plain": [
       "<IPython.core.display.Image object>"
      ]
     },
     "metadata": {},
     "output_type": "display_data"
    },
    {
     "data": {
      "text/markdown": [
       "The image shows a close-up of a bear with a predominantly light brown or tan-colored fur coat. The bear is facing the camera, displaying its head and upper torso. The background consists of what appears to be green grass, suggesting a natural outdoor setting. The bear has a calm expression and its eyes are looking forward. The facial features such as the eyes, nose, and ears are distinct and characteristic of bears."
      ],
      "text/plain": [
       "<IPython.core.display.Markdown object>"
      ]
     },
     "metadata": {},
     "output_type": "display_data"
    },
    {
     "data": {
      "text/html": [
       "<img src=\"https://github.com/tkubica12/ai-demos/blob/main/openai/vision/images/000000000632.jpg?raw=true\"/>"
      ],
      "text/plain": [
       "<IPython.core.display.Image object>"
      ]
     },
     "metadata": {},
     "output_type": "display_data"
    },
    {
     "data": {
      "text/markdown": [
       "### Description of the Image:\n",
       "\n",
       "#### Room Elements:\n",
       "- **Bed:** There is a large bed with a blue comforter in the foreground.\n",
       "- **Furniture:** To the left, a wooden dresser with a circular mirror on it is visible; there also appears to be a lamp and some items on the dresser.\n",
       "- **Window:** A window with a view of green foliage is on the wall opposite the bed; it lets in natural light.\n",
       "- **Seating:** Under the window, there's what looks like a seating area with a cushion that has a heart design.\n",
       "- **Bookshelf:** A tall bookshelf filled with books and other items is situated to the right of the window.\n",
       "- **Plants:** Multiple potted plants are placed around the room, including on the dresser and the windowsill.\n",
       "- **Floor:** The floor is not fully visible, but there's a light-colored rug underneath the bed.\n",
       "\n",
       "#### Decorative and Personal Items:\n",
       "- **Wallpaper:** The walls have a wallpaper design with small print.\n",
       "- **Decoration:** There are various small items on the dresser and bookshelf that add a personal touch to the room.\n",
       "- **Clothing:** There's a dark-colored piece of clothing hanging on the right side of the image, near the bookshelf.\n",
       "\n",
       "### Overall Impression:\n",
       "The room has a cozy and personal atmosphere, likely a bedroom, with good natural lighting and lived-in touches such as books and decorations."
      ],
      "text/plain": [
       "<IPython.core.display.Markdown object>"
      ]
     },
     "metadata": {},
     "output_type": "display_data"
    },
    {
     "data": {
      "text/html": [
       "<img src=\"https://github.com/tkubica12/ai-demos/blob/main/openai/vision/images/000000000724.jpg?raw=true\"/>"
      ],
      "text/plain": [
       "<IPython.core.display.Image object>"
      ]
     },
     "metadata": {},
     "output_type": "display_data"
    },
    {
     "data": {
      "text/markdown": [
       "Sure, here you go:\n",
       "\n",
       "```markdown\n",
       "The image shows a red octagonal stop sign. The sign appears inverted, displaying the word \"STOP\" backwards, such that it reads \"dOIS.\" The background includes a clear sky with some clouds, green foliage, what appears to be a parking lot, and parts of vehicles. It seems like a typical sunny day in a suburban or commercial area.\n",
       "```"
      ],
      "text/plain": [
       "<IPython.core.display.Markdown object>"
      ]
     },
     "metadata": {},
     "output_type": "display_data"
    },
    {
     "data": {
      "text/html": [
       "<img src=\"https://github.com/tkubica12/ai-demos/blob/main/openai/vision/images/000000000776.jpg?raw=true\"/>"
      ],
      "text/plain": [
       "<IPython.core.display.Image object>"
      ]
     },
     "metadata": {},
     "output_type": "display_data"
    },
    {
     "data": {
      "text/markdown": [
       "The image contains three teddy bears. The teddy bears appear to be hugging or embracing each other, with one bear’s arm around another. They have a classic plush design with button eyes and stitched noses. The photo is a close-up, showing the bears from a side angle, and the focus is more on the bears in the foreground, with the background blurred."
      ],
      "text/plain": [
       "<IPython.core.display.Markdown object>"
      ]
     },
     "metadata": {},
     "output_type": "display_data"
    },
    {
     "data": {
      "text/html": [
       "<img src=\"https://github.com/tkubica12/ai-demos/blob/main/openai/vision/images/000000000785.jpg?raw=true\"/>"
      ],
      "text/plain": [
       "<IPython.core.display.Image object>"
      ]
     },
     "metadata": {},
     "output_type": "display_data"
    },
    {
     "data": {
      "text/markdown": [
       "```markdown\n",
       "- A person skiing down a snowy slope.\n",
       "- The individual is wearing a red ski jacket, dark pants, and a striped beanie.\n",
       "- They have ski poles in their hands and are equipped with ski boots and skis.\n",
       "- The environment suggests it's a designated ski area, with markers along the sides of the slope.\n",
       "- It appears to be a bright but overcast day, suitable for winter sports.\n",
       "```"
      ],
      "text/plain": [
       "<IPython.core.display.Markdown object>"
      ]
     },
     "metadata": {},
     "output_type": "display_data"
    }
   ],
   "source": [
    "from IPython.display import Image, display, Markdown\n",
    "import textwrap\n",
    "\n",
    "for url, output in zip(urls, outputs):\n",
    "    display(Image(url=url))\n",
    "    display(Markdown(output))"
   ]
  }
 ],
 "metadata": {
  "kernelspec": {
   "display_name": "Python 3",
   "language": "python",
   "name": "python3"
  },
  "language_info": {
   "codemirror_mode": {
    "name": "ipython",
    "version": 3
   },
   "file_extension": ".py",
   "mimetype": "text/x-python",
   "name": "python",
   "nbconvert_exporter": "python",
   "pygments_lexer": "ipython3",
   "version": "3.11.2"
  }
 },
 "nbformat": 4,
 "nbformat_minor": 2
}
