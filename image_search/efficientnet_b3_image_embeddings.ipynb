{
 "cells": [
  {
   "attachments": {},
   "cell_type": "markdown",
   "metadata": {},
   "source": [
    "# Get image embeddings from EfficientNet via img2vec"
   ]
  },
  {
   "cell_type": "code",
   "execution_count": null,
   "metadata": {},
   "outputs": [],
   "source": [
    "!pip install img2vec_pytorch --user"
   ]
  },
  {
   "cell_type": "code",
   "execution_count": 2,
   "metadata": {},
   "outputs": [],
   "source": [
    "# imports\n",
    "from img2vec_pytorch import Img2Vec\n",
    "import os\n",
    "import pandas as pd\n",
    "from PIL import Image"
   ]
  },
  {
   "cell_type": "code",
   "execution_count": null,
   "metadata": {},
   "outputs": [],
   "source": [
    "# Images to process\n",
    "image_dir = './val2017/'\n",
    "\n",
    "# Get img2vec\n",
    "img2vec = Img2Vec(model='efficientnet_b3')\n",
    "\n",
    "df = pd.DataFrame()\n",
    "num_files = len(os.listdir(image_dir))\n",
    "for i, filename in enumerate(os.listdir(image_dir)):\n",
    "    # Print progress\n",
    "    print(f\"{i} out of {num_files} - {filename}\")\n",
    "\n",
    "    # Load image\n",
    "    img = Image.open(image_dir+filename)\n",
    "\n",
    "    # Some images are BW, convert to RGB\n",
    "    if img.mode != 'RGB':\n",
    "        print(f\"Converting {filename} to RGB\")\n",
    "        img = img.convert('RGB')\n",
    "    \n",
    "    # Get embedding and store in dataframe\n",
    "    embedding = img2vec.get_vec(img, tensor=False)\n",
    "    row = pd.DataFrame({\"filename\": filename, \"embedding\": [embedding]})\n",
    "    df = pd.concat([df, row], axis=0)"
   ]
  },
  {
   "cell_type": "code",
   "execution_count": 11,
   "metadata": {},
   "outputs": [
    {
     "data": {
      "text/html": [
       "<div>\n",
       "<style scoped>\n",
       "    .dataframe tbody tr th:only-of-type {\n",
       "        vertical-align: middle;\n",
       "    }\n",
       "\n",
       "    .dataframe tbody tr th {\n",
       "        vertical-align: top;\n",
       "    }\n",
       "\n",
       "    .dataframe thead th {\n",
       "        text-align: right;\n",
       "    }\n",
       "</style>\n",
       "<table border=\"1\" class=\"dataframe\">\n",
       "  <thead>\n",
       "    <tr style=\"text-align: right;\">\n",
       "      <th></th>\n",
       "      <th>filename</th>\n",
       "      <th>embedding</th>\n",
       "    </tr>\n",
       "  </thead>\n",
       "  <tbody>\n",
       "    <tr>\n",
       "      <th>0</th>\n",
       "      <td>000000183965.jpg</td>\n",
       "      <td>[-0.010022697, -0.0027541262, -0.07790962, -4....</td>\n",
       "    </tr>\n",
       "    <tr>\n",
       "      <th>0</th>\n",
       "      <td>000000139077.jpg</td>\n",
       "      <td>[8.464758, -1.0534918e-08, -0.06922387, -0.000...</td>\n",
       "    </tr>\n",
       "    <tr>\n",
       "      <th>0</th>\n",
       "      <td>000000351096.jpg</td>\n",
       "      <td>[0.4889195, -6.8477846e-09, -1.2544345e-05, 19...</td>\n",
       "    </tr>\n",
       "    <tr>\n",
       "      <th>0</th>\n",
       "      <td>000000105264.jpg</td>\n",
       "      <td>[-0.0016095863, -0.00022712024, -0.22042257, -...</td>\n",
       "    </tr>\n",
       "    <tr>\n",
       "      <th>0</th>\n",
       "      <td>000000389933.jpg</td>\n",
       "      <td>[-2.8899992e-06, -0.0030170023, -3.51088e-08, ...</td>\n",
       "    </tr>\n",
       "    <tr>\n",
       "      <th>0</th>\n",
       "      <td>000000235064.jpg</td>\n",
       "      <td>[0.16119336, -0.023483042, 5.347272, -0.002037...</td>\n",
       "    </tr>\n",
       "    <tr>\n",
       "      <th>0</th>\n",
       "      <td>000000378873.jpg</td>\n",
       "      <td>[-4.711545e-06, -0.061488062, -0.09265913, 8.4...</td>\n",
       "    </tr>\n",
       "    <tr>\n",
       "      <th>0</th>\n",
       "      <td>000000558073.jpg</td>\n",
       "      <td>[-0.27766138, -1.2798888e-10, -0.00011446543, ...</td>\n",
       "    </tr>\n",
       "    <tr>\n",
       "      <th>0</th>\n",
       "      <td>000000400367.jpg</td>\n",
       "      <td>[-8.816778e-07, 12.952164, -0.2537899, -1.5509...</td>\n",
       "    </tr>\n",
       "    <tr>\n",
       "      <th>0</th>\n",
       "      <td>000000282298.jpg</td>\n",
       "      <td>[-3.5908335e-05, -0.16581029, 2.0920746, -3.12...</td>\n",
       "    </tr>\n",
       "  </tbody>\n",
       "</table>\n",
       "</div>"
      ],
      "text/plain": [
       "           filename                                          embedding\n",
       "0  000000183965.jpg  [-0.010022697, -0.0027541262, -0.07790962, -4....\n",
       "0  000000139077.jpg  [8.464758, -1.0534918e-08, -0.06922387, -0.000...\n",
       "0  000000351096.jpg  [0.4889195, -6.8477846e-09, -1.2544345e-05, 19...\n",
       "0  000000105264.jpg  [-0.0016095863, -0.00022712024, -0.22042257, -...\n",
       "0  000000389933.jpg  [-2.8899992e-06, -0.0030170023, -3.51088e-08, ...\n",
       "0  000000235064.jpg  [0.16119336, -0.023483042, 5.347272, -0.002037...\n",
       "0  000000378873.jpg  [-4.711545e-06, -0.061488062, -0.09265913, 8.4...\n",
       "0  000000558073.jpg  [-0.27766138, -1.2798888e-10, -0.00011446543, ...\n",
       "0  000000400367.jpg  [-8.816778e-07, 12.952164, -0.2537899, -1.5509...\n",
       "0  000000282298.jpg  [-3.5908335e-05, -0.16581029, 2.0920746, -3.12..."
      ]
     },
     "execution_count": 11,
     "metadata": {},
     "output_type": "execute_result"
    }
   ],
   "source": [
    "df.sample(10)"
   ]
  },
  {
   "cell_type": "code",
   "execution_count": 58,
   "metadata": {},
   "outputs": [],
   "source": [
    "# Save results\n",
    "df.to_parquet(\"efficientnet_b3_image_embeddings.parquet\")"
   ]
  }
 ],
 "metadata": {
  "kernelspec": {
   "display_name": "Python 3",
   "language": "python",
   "name": "python3"
  },
  "language_info": {
   "codemirror_mode": {
    "name": "ipython",
    "version": 3
   },
   "file_extension": ".py",
   "mimetype": "text/x-python",
   "name": "python",
   "nbconvert_exporter": "python",
   "pygments_lexer": "ipython3",
   "version": "3.11.2"
  },
  "orig_nbformat": 4
 },
 "nbformat": 4,
 "nbformat_minor": 2
}
