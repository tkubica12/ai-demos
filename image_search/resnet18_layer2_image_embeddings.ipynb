{
 "cells": [
  {
   "attachments": {},
   "cell_type": "markdown",
   "metadata": {},
   "source": [
    "# Get image embeddings from ResNet-18 layer2 via img2vec"
   ]
  },
  {
   "cell_type": "code",
   "execution_count": null,
   "metadata": {},
   "outputs": [],
   "source": [
    "!pip install img2vec_pytorch --user"
   ]
  },
  {
   "cell_type": "code",
   "execution_count": 1,
   "metadata": {},
   "outputs": [],
   "source": [
    "# imports\n",
    "from img2vec_pytorch import Img2Vec\n",
    "import os\n",
    "import pandas as pd\n",
    "from PIL import Image"
   ]
  },
  {
   "cell_type": "code",
   "execution_count": 6,
   "metadata": {},
   "outputs": [
    {
     "name": "stderr",
     "output_type": "stream",
     "text": [
      "C:\\Users\\tokubica\\AppData\\Roaming\\Python\\Python311\\site-packages\\torchvision\\models\\_utils.py:208: UserWarning: The parameter 'pretrained' is deprecated since 0.13 and may be removed in the future, please use 'weights' instead.\n",
      "  warnings.warn(\n",
      "C:\\Users\\tokubica\\AppData\\Roaming\\Python\\Python311\\site-packages\\torchvision\\models\\_utils.py:223: UserWarning: Arguments other than a weight enum or `None` for 'weights' are deprecated since 0.13 and may be removed in the future. The current behavior is equivalent to passing `weights=ResNet18_Weights.IMAGENET1K_V1`. You can also use `weights=ResNet18_Weights.DEFAULT` to get the most up-to-date weights.\n",
      "  warnings.warn(msg)\n"
     ]
    },
    {
     "name": "stdout",
     "output_type": "stream",
     "text": [
      "0 out of 5000 - 000000000139.jpg\n"
     ]
    },
    {
     "ename": "RuntimeError",
     "evalue": "output with shape [1, 128, 1, 1] doesn't match the broadcast shape [1, 128, 28, 28]",
     "output_type": "error",
     "traceback": [
      "\u001b[1;31m---------------------------------------------------------------------------\u001b[0m",
      "\u001b[1;31mRuntimeError\u001b[0m                              Traceback (most recent call last)",
      "Cell \u001b[1;32mIn[6], line 22\u001b[0m\n\u001b[0;32m     19\u001b[0m     img \u001b[39m=\u001b[39m img\u001b[39m.\u001b[39mconvert(\u001b[39m'\u001b[39m\u001b[39mRGB\u001b[39m\u001b[39m'\u001b[39m)\n\u001b[0;32m     21\u001b[0m \u001b[39m# Get embedding and store in dataframe\u001b[39;00m\n\u001b[1;32m---> 22\u001b[0m embedding \u001b[39m=\u001b[39m img2vec\u001b[39m.\u001b[39;49mget_vec(img, tensor\u001b[39m=\u001b[39;49m\u001b[39mTrue\u001b[39;49;00m)\n\u001b[0;32m     23\u001b[0m \u001b[39m# row = pd.DataFrame({\"filename\": filename, \"embedding\": [embedding]})\u001b[39;00m\n\u001b[0;32m     24\u001b[0m \u001b[39m# df = pd.concat([df, row], axis=0)\u001b[39;00m\n\u001b[0;32m     25\u001b[0m \u001b[39mbreak\u001b[39;00m\n",
      "File \u001b[1;32m~\\AppData\\Roaming\\Python\\Python311\\site-packages\\img2vec_pytorch\\img_to_vec.py:97\u001b[0m, in \u001b[0;36mImg2Vec.get_vec\u001b[1;34m(self, img, tensor)\u001b[0m\n\u001b[0;32m     95\u001b[0m h \u001b[39m=\u001b[39m \u001b[39mself\u001b[39m\u001b[39m.\u001b[39mextraction_layer\u001b[39m.\u001b[39mregister_forward_hook(copy_data)\n\u001b[0;32m     96\u001b[0m \u001b[39mwith\u001b[39;00m torch\u001b[39m.\u001b[39mno_grad():\n\u001b[1;32m---> 97\u001b[0m     h_x \u001b[39m=\u001b[39m \u001b[39mself\u001b[39;49m\u001b[39m.\u001b[39;49mmodel(image)\n\u001b[0;32m     98\u001b[0m h\u001b[39m.\u001b[39mremove()\n\u001b[0;32m    100\u001b[0m \u001b[39mif\u001b[39;00m tensor:\n",
      "File \u001b[1;32m~\\AppData\\Roaming\\Python\\Python311\\site-packages\\torch\\nn\\modules\\module.py:1501\u001b[0m, in \u001b[0;36mModule._call_impl\u001b[1;34m(self, *args, **kwargs)\u001b[0m\n\u001b[0;32m   1496\u001b[0m \u001b[39m# If we don't have any hooks, we want to skip the rest of the logic in\u001b[39;00m\n\u001b[0;32m   1497\u001b[0m \u001b[39m# this function, and just call forward.\u001b[39;00m\n\u001b[0;32m   1498\u001b[0m \u001b[39mif\u001b[39;00m \u001b[39mnot\u001b[39;00m (\u001b[39mself\u001b[39m\u001b[39m.\u001b[39m_backward_hooks \u001b[39mor\u001b[39;00m \u001b[39mself\u001b[39m\u001b[39m.\u001b[39m_backward_pre_hooks \u001b[39mor\u001b[39;00m \u001b[39mself\u001b[39m\u001b[39m.\u001b[39m_forward_hooks \u001b[39mor\u001b[39;00m \u001b[39mself\u001b[39m\u001b[39m.\u001b[39m_forward_pre_hooks\n\u001b[0;32m   1499\u001b[0m         \u001b[39mor\u001b[39;00m _global_backward_pre_hooks \u001b[39mor\u001b[39;00m _global_backward_hooks\n\u001b[0;32m   1500\u001b[0m         \u001b[39mor\u001b[39;00m _global_forward_hooks \u001b[39mor\u001b[39;00m _global_forward_pre_hooks):\n\u001b[1;32m-> 1501\u001b[0m     \u001b[39mreturn\u001b[39;00m forward_call(\u001b[39m*\u001b[39;49margs, \u001b[39m*\u001b[39;49m\u001b[39m*\u001b[39;49mkwargs)\n\u001b[0;32m   1502\u001b[0m \u001b[39m# Do not call functions when jit is used\u001b[39;00m\n\u001b[0;32m   1503\u001b[0m full_backward_hooks, non_full_backward_hooks \u001b[39m=\u001b[39m [], []\n",
      "File \u001b[1;32m~\\AppData\\Roaming\\Python\\Python311\\site-packages\\torchvision\\models\\resnet.py:285\u001b[0m, in \u001b[0;36mResNet.forward\u001b[1;34m(self, x)\u001b[0m\n\u001b[0;32m    284\u001b[0m \u001b[39mdef\u001b[39;00m \u001b[39mforward\u001b[39m(\u001b[39mself\u001b[39m, x: Tensor) \u001b[39m-\u001b[39m\u001b[39m>\u001b[39m Tensor:\n\u001b[1;32m--> 285\u001b[0m     \u001b[39mreturn\u001b[39;00m \u001b[39mself\u001b[39;49m\u001b[39m.\u001b[39;49m_forward_impl(x)\n",
      "File \u001b[1;32m~\\AppData\\Roaming\\Python\\Python311\\site-packages\\torchvision\\models\\resnet.py:274\u001b[0m, in \u001b[0;36mResNet._forward_impl\u001b[1;34m(self, x)\u001b[0m\n\u001b[0;32m    271\u001b[0m x \u001b[39m=\u001b[39m \u001b[39mself\u001b[39m\u001b[39m.\u001b[39mmaxpool(x)\n\u001b[0;32m    273\u001b[0m x \u001b[39m=\u001b[39m \u001b[39mself\u001b[39m\u001b[39m.\u001b[39mlayer1(x)\n\u001b[1;32m--> 274\u001b[0m x \u001b[39m=\u001b[39m \u001b[39mself\u001b[39;49m\u001b[39m.\u001b[39;49mlayer2(x)\n\u001b[0;32m    275\u001b[0m x \u001b[39m=\u001b[39m \u001b[39mself\u001b[39m\u001b[39m.\u001b[39mlayer3(x)\n\u001b[0;32m    276\u001b[0m x \u001b[39m=\u001b[39m \u001b[39mself\u001b[39m\u001b[39m.\u001b[39mlayer4(x)\n",
      "File \u001b[1;32m~\\AppData\\Roaming\\Python\\Python311\\site-packages\\torch\\nn\\modules\\module.py:1547\u001b[0m, in \u001b[0;36mModule._call_impl\u001b[1;34m(self, *args, **kwargs)\u001b[0m\n\u001b[0;32m   1545\u001b[0m     hook_result \u001b[39m=\u001b[39m hook(\u001b[39mself\u001b[39m, args, kwargs, result)\n\u001b[0;32m   1546\u001b[0m \u001b[39melse\u001b[39;00m:\n\u001b[1;32m-> 1547\u001b[0m     hook_result \u001b[39m=\u001b[39m hook(\u001b[39mself\u001b[39;49m, args, result)\n\u001b[0;32m   1549\u001b[0m \u001b[39mif\u001b[39;00m hook_result \u001b[39mis\u001b[39;00m \u001b[39mnot\u001b[39;00m \u001b[39mNone\u001b[39;00m:\n\u001b[0;32m   1550\u001b[0m     result \u001b[39m=\u001b[39m hook_result\n",
      "File \u001b[1;32m~\\AppData\\Roaming\\Python\\Python311\\site-packages\\img2vec_pytorch\\img_to_vec.py:93\u001b[0m, in \u001b[0;36mImg2Vec.get_vec.<locals>.copy_data\u001b[1;34m(m, i, o)\u001b[0m\n\u001b[0;32m     92\u001b[0m \u001b[39mdef\u001b[39;00m \u001b[39mcopy_data\u001b[39m(m, i, o):\n\u001b[1;32m---> 93\u001b[0m     my_embedding\u001b[39m.\u001b[39;49mcopy_(o\u001b[39m.\u001b[39;49mdata)\n",
      "\u001b[1;31mRuntimeError\u001b[0m: output with shape [1, 128, 1, 1] doesn't match the broadcast shape [1, 128, 28, 28]"
     ]
    }
   ],
   "source": [
    "# Images to process\n",
    "image_dir = './val2017/'\n",
    "\n",
    "# Get img2vec\n",
    "img2vec = Img2Vec(model='resnet18', layer='img2', layer_output_size=128)\n",
    "\n",
    "df = pd.DataFrame()\n",
    "num_files = len(os.listdir(image_dir))\n",
    "for i, filename in enumerate(os.listdir(image_dir)):\n",
    "    # Print progress\n",
    "    print(f\"{i} out of {num_files} - {filename}\")\n",
    "\n",
    "    # Load image\n",
    "    img = Image.open(image_dir+filename)\n",
    "\n",
    "    # Some images are BW, convert to RGB\n",
    "    if img.mode != 'RGB':\n",
    "        print(f\"Converting {filename} to RGB\")\n",
    "        img = img.convert('RGB')\n",
    "    \n",
    "    # Get embedding and store in dataframe\n",
    "    embedding = img2vec.get_vec(img, tensor=False)\n",
    "    # row = pd.DataFrame({\"filename\": filename, \"embedding\": [embedding]})\n",
    "    # df = pd.concat([df, row], axis=0)\n",
    "    break"
   ]
  },
  {
   "cell_type": "code",
   "execution_count": 11,
   "metadata": {},
   "outputs": [
    {
     "data": {
      "text/html": [
       "<div>\n",
       "<style scoped>\n",
       "    .dataframe tbody tr th:only-of-type {\n",
       "        vertical-align: middle;\n",
       "    }\n",
       "\n",
       "    .dataframe tbody tr th {\n",
       "        vertical-align: top;\n",
       "    }\n",
       "\n",
       "    .dataframe thead th {\n",
       "        text-align: right;\n",
       "    }\n",
       "</style>\n",
       "<table border=\"1\" class=\"dataframe\">\n",
       "  <thead>\n",
       "    <tr style=\"text-align: right;\">\n",
       "      <th></th>\n",
       "      <th>filename</th>\n",
       "      <th>embedding</th>\n",
       "    </tr>\n",
       "  </thead>\n",
       "  <tbody>\n",
       "    <tr>\n",
       "      <th>0</th>\n",
       "      <td>000000183965.jpg</td>\n",
       "      <td>[-0.010022697, -0.0027541262, -0.07790962, -4....</td>\n",
       "    </tr>\n",
       "    <tr>\n",
       "      <th>0</th>\n",
       "      <td>000000139077.jpg</td>\n",
       "      <td>[8.464758, -1.0534918e-08, -0.06922387, -0.000...</td>\n",
       "    </tr>\n",
       "    <tr>\n",
       "      <th>0</th>\n",
       "      <td>000000351096.jpg</td>\n",
       "      <td>[0.4889195, -6.8477846e-09, -1.2544345e-05, 19...</td>\n",
       "    </tr>\n",
       "    <tr>\n",
       "      <th>0</th>\n",
       "      <td>000000105264.jpg</td>\n",
       "      <td>[-0.0016095863, -0.00022712024, -0.22042257, -...</td>\n",
       "    </tr>\n",
       "    <tr>\n",
       "      <th>0</th>\n",
       "      <td>000000389933.jpg</td>\n",
       "      <td>[-2.8899992e-06, -0.0030170023, -3.51088e-08, ...</td>\n",
       "    </tr>\n",
       "    <tr>\n",
       "      <th>0</th>\n",
       "      <td>000000235064.jpg</td>\n",
       "      <td>[0.16119336, -0.023483042, 5.347272, -0.002037...</td>\n",
       "    </tr>\n",
       "    <tr>\n",
       "      <th>0</th>\n",
       "      <td>000000378873.jpg</td>\n",
       "      <td>[-4.711545e-06, -0.061488062, -0.09265913, 8.4...</td>\n",
       "    </tr>\n",
       "    <tr>\n",
       "      <th>0</th>\n",
       "      <td>000000558073.jpg</td>\n",
       "      <td>[-0.27766138, -1.2798888e-10, -0.00011446543, ...</td>\n",
       "    </tr>\n",
       "    <tr>\n",
       "      <th>0</th>\n",
       "      <td>000000400367.jpg</td>\n",
       "      <td>[-8.816778e-07, 12.952164, -0.2537899, -1.5509...</td>\n",
       "    </tr>\n",
       "    <tr>\n",
       "      <th>0</th>\n",
       "      <td>000000282298.jpg</td>\n",
       "      <td>[-3.5908335e-05, -0.16581029, 2.0920746, -3.12...</td>\n",
       "    </tr>\n",
       "  </tbody>\n",
       "</table>\n",
       "</div>"
      ],
      "text/plain": [
       "           filename                                          embedding\n",
       "0  000000183965.jpg  [-0.010022697, -0.0027541262, -0.07790962, -4....\n",
       "0  000000139077.jpg  [8.464758, -1.0534918e-08, -0.06922387, -0.000...\n",
       "0  000000351096.jpg  [0.4889195, -6.8477846e-09, -1.2544345e-05, 19...\n",
       "0  000000105264.jpg  [-0.0016095863, -0.00022712024, -0.22042257, -...\n",
       "0  000000389933.jpg  [-2.8899992e-06, -0.0030170023, -3.51088e-08, ...\n",
       "0  000000235064.jpg  [0.16119336, -0.023483042, 5.347272, -0.002037...\n",
       "0  000000378873.jpg  [-4.711545e-06, -0.061488062, -0.09265913, 8.4...\n",
       "0  000000558073.jpg  [-0.27766138, -1.2798888e-10, -0.00011446543, ...\n",
       "0  000000400367.jpg  [-8.816778e-07, 12.952164, -0.2537899, -1.5509...\n",
       "0  000000282298.jpg  [-3.5908335e-05, -0.16581029, 2.0920746, -3.12..."
      ]
     },
     "execution_count": 11,
     "metadata": {},
     "output_type": "execute_result"
    }
   ],
   "source": [
    "df.#sample(10)"
   ]
  },
  {
   "cell_type": "code",
   "execution_count": 58,
   "metadata": {},
   "outputs": [],
   "source": [
    "# Save results\n",
    "df.to_parquet(\"resnet18_image_embeddings.parquet\")"
   ]
  }
 ],
 "metadata": {
  "kernelspec": {
   "display_name": "Python 3",
   "language": "python",
   "name": "python3"
  },
  "language_info": {
   "codemirror_mode": {
    "name": "ipython",
    "version": 3
   },
   "file_extension": ".py",
   "mimetype": "text/x-python",
   "name": "python",
   "nbconvert_exporter": "python",
   "pygments_lexer": "ipython3",
   "version": "3.11.2"
  },
  "orig_nbformat": 4
 },
 "nbformat": 4,
 "nbformat_minor": 2
}
