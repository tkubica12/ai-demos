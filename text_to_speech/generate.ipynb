{
 "cells": [
  {
   "cell_type": "markdown",
   "metadata": {},
   "source": [
    "# Text to Speech experiments"
   ]
  },
  {
   "cell_type": "code",
   "execution_count": null,
   "metadata": {},
   "outputs": [],
   "source": [
    "# Install dependencies\n",
    "!pip install --upgrade --user openai\n",
    "!pip install --upgrade --user azure-cognitiveservices-speech\n",
    "!pip install --upgrade --user google-cloud-texttospeech"
   ]
  },
  {
   "cell_type": "code",
   "execution_count": 25,
   "metadata": {},
   "outputs": [
    {
     "data": {
      "text/plain": [
       "True"
      ]
     },
     "execution_count": 25,
     "metadata": {},
     "output_type": "execute_result"
    }
   ],
   "source": [
    "# Load environment variables\n",
    "from dotenv import load_dotenv\n",
    "load_dotenv()"
   ]
  },
  {
   "cell_type": "code",
   "execution_count": 22,
   "metadata": {},
   "outputs": [],
   "source": [
    "# Define texts\n",
    "\n",
    "text_en = \"\"\"\n",
    "\"We are friends now, I don't understand why you don't discuss your plans!\", I shouted. \n",
    "John replied, \"I don't want to talk about it, I'm not sure what I'm going to do yet.\" \n",
    "I became scared and said, \"John, you're scaring me, please tell me what's going on!\"\n",
    "John whispered, \"I'm sorry, I can't tell you, they are watching us.\"\n",
    "\"\"\"\n",
    "\n",
    "text_cz = \"\"\"\n",
    "\"Jsme teď přátelé, nechápu, proč nemluvíš o svých plánech!\" zakřičela jsem. \n",
    "John odpověděl: \"Nechci o tom mluvit, ještě nevím, co udělám.\" \n",
    "Začala jsem se bát a řekla: \"Johne, děsíš mě, prosím, řekni mi, co se děje\"\n",
    "John zašeptal: \"Promiň, nemohu ti to říct, oni nás sledují.”\n",
    "\"\"\"\n",
    "\n",
    "text_en_azure_ssml = \"\"\"\n",
    "<!--ID=B7267351-473F-409D-9765-754A8EBCDE05;Version=1|{\"VoiceNameToIdMapItems\":[{\"Id\":\"e0638b39-fbd2-4497-a482-e2f65759412a\",\"Name\":\"Microsoft Server Speech Text to Speech Voice (en-US, GuyNeural)\",\"ShortName\":\"en-US-GuyNeural\",\"Locale\":\"en-US\",\"VoiceType\":\"StandardVoice\"}]}-->\n",
    "<!--ID=FCB40C2B-1F9F-4C26-B1A1-CF8E67BE07D1;Version=1|{\"Files\":{}}-->\n",
    "<!--ID=5B95B1CC-2C7B-494F-B746-CF22A0E779B7;Version=1|{\"Locales\":{\"en-US\":{\"AutoApplyCustomLexiconFiles\":[{}]}}}-->\n",
    "<speak xmlns=\"http://www.w3.org/2001/10/synthesis\" xmlns:mstts=\"http://www.w3.org/2001/mstts\" xmlns:emo=\"http://www.w3.org/2009/10/emotionml\" version=\"1.0\" xml:lang=\"en-US\"><voice name=\"en-US-GuyNeural\"><s /><mstts:express-as style=\"shouting\">\"We are friends now, I don't understand why you don't discuss your plans!\"</mstts:express-as><mstts:express-as style=\"Default\">, I shouted. </mstts:express-as><s />\n",
    "<s /><mstts:express-as style=\"Default\">John replied, </mstts:express-as><s /><mstts:express-as style=\"angry\">\"I don't want to talk about it, I'm not sure what I'm going to do yet.\" </mstts:express-as><s />\n",
    "<s /><mstts:express-as style=\"Default\">I became scared and said, </mstts:express-as><s /><mstts:express-as style=\"terrified\">\"John, you're scaring me, please tell me what's going on!\"</mstts:express-as><s />\n",
    "<s /><mstts:express-as style=\"Default\"><prosody rate=\"-20.00%\">John whispered,</prosody></mstts:express-as><mstts:express-as style=\"whispering\" styledegree=\"1.2\">\"I'm sorry, I can't tell you, they are watching us.\"</mstts:express-as><s /></voice></speak>\n",
    "\"\"\""
   ]
  },
  {
   "cell_type": "markdown",
   "metadata": {},
   "source": [
    "### OpenAI TTS"
   ]
  },
  {
   "cell_type": "code",
   "execution_count": 11,
   "metadata": {},
   "outputs": [],
   "source": [
    "from pathlib import Path\n",
    "from openai import OpenAI\n",
    "client = OpenAI()\n",
    "\n",
    "# English\n",
    "response = client.audio.speech.create(\n",
    "  model=\"tts-1\",\n",
    "  voice=\"alloy\",\n",
    "  input=text_en\n",
    ")\n",
    "\n",
    "response.stream_to_file(\"openai_en.mp3\")\n",
    "\n",
    "# Czech\n",
    "response = client.audio.speech.create(\n",
    "  model=\"tts-1\",\n",
    "  voice=\"alloy\",\n",
    "  input=text_cz\n",
    ")\n",
    "\n",
    "response.stream_to_file(\"openai_cz.mp3\")"
   ]
  },
  {
   "cell_type": "markdown",
   "metadata": {},
   "source": [
    "### Azure TTS"
   ]
  },
  {
   "cell_type": "code",
   "execution_count": null,
   "metadata": {},
   "outputs": [],
   "source": [
    "import os\n",
    "import azure.cognitiveservices.speech as speechsdk\n",
    "\n",
    "speech_config = speechsdk.SpeechConfig(subscription=os.environ.get('SPEECH_KEY'), region=os.environ.get('SPEECH_REGION'))\n",
    "speech_config.set_speech_synthesis_output_format(speechsdk.SpeechSynthesisOutputFormat.Audio16Khz32KBitRateMonoMp3)\n",
    "\n",
    "# English\n",
    "speech_config.speech_synthesis_voice_name = \"en-US-GuyNeural\"\n",
    "file_config = speechsdk.audio.AudioOutputConfig(filename=\"azure_en.mp3\")\n",
    "speech_synthesizer = speechsdk.SpeechSynthesizer(speech_config=speech_config, audio_config=file_config)\n",
    "speech_synthesizer.speak_text_async(text_en).get()\n",
    "\n",
    "# English with SSML\n",
    "file_config = speechsdk.audio.AudioOutputConfig(filename=\"azure_en_ssml.mp3\")\n",
    "speech_synthesizer = speechsdk.SpeechSynthesizer(speech_config=speech_config, audio_config=file_config)\n",
    "speech_synthesizer.speak_ssml_async(text_en_azure_ssml).get()\n",
    "\n",
    "# Czech\n",
    "speech_config.speech_synthesis_voice_name = \"cs-CZ-AntoninNeural\"\n",
    "file_config = speechsdk.audio.AudioOutputConfig(filename=\"azure_cz.mp3\")\n",
    "speech_synthesizer = speechsdk.SpeechSynthesizer(speech_config=speech_config, audio_config=file_config)\n",
    "speech_synthesizer.speak_text_async(text_cz).get()"
   ]
  },
  {
   "cell_type": "markdown",
   "metadata": {},
   "source": [
    "### Google TTS"
   ]
  },
  {
   "cell_type": "code",
   "execution_count": null,
   "metadata": {},
   "outputs": [],
   "source": [
    "from google.cloud import texttospeech\n",
    "\n",
    "client = texttospeech.TextToSpeechClient()\n",
    "audio_config = texttospeech.AudioConfig(audio_encoding=texttospeech.AudioEncoding.MP3)\n",
    "\n",
    "# English\n",
    "synthesis_input = texttospeech.SynthesisInput(text=text_en)\n",
    "voice = texttospeech.VoiceSelectionParams(language_code=\"en-US\", name=\"en-US-Studio-M\")\n",
    "response = client.synthesize_speech(input=synthesis_input, voice=voice, audio_config=audio_config)\n",
    "\n",
    "open('google_en.mp3', 'wb').write(response.audio_content)\n",
    "\n",
    "# Czech\n",
    "synthesis_input = texttospeech.SynthesisInput(text=text_cz)\n",
    "voice = texttospeech.VoiceSelectionParams(language_code=\"cs-CZ\", name=\"cs-CZ-Wavenet-A\")\n",
    "response = client.synthesize_speech(input=synthesis_input, voice=voice, audio_config=audio_config)\n",
    "\n",
    "open('google_cz.mp3', 'wb').write(response.audio_content)"
   ]
  }
 ],
 "metadata": {
  "kernelspec": {
   "display_name": "Python 3",
   "language": "python",
   "name": "python3"
  },
  "language_info": {
   "codemirror_mode": {
    "name": "ipython",
    "version": 3
   },
   "file_extension": ".py",
   "mimetype": "text/x-python",
   "name": "python",
   "nbconvert_exporter": "python",
   "pygments_lexer": "ipython3",
   "version": "3.11.2"
  }
 },
 "nbformat": 4,
 "nbformat_minor": 2
}
