{
 "cells": [
  {
   "attachments": {},
   "cell_type": "markdown",
   "metadata": {},
   "source": [
    "# YOLOv8 benchmark, export and serve in AML\n",
    "\n",
    "## Benchmarking"
   ]
  },
  {
   "cell_type": "code",
   "execution_count": null,
   "metadata": {},
   "outputs": [],
   "source": [
    "# Install YOLOv8\n",
    "%pip install ultralytics\n",
    "%pip install onnx"
   ]
  },
  {
   "cell_type": "code",
   "execution_count": 2,
   "metadata": {},
   "outputs": [],
   "source": [
    "# Import YOLOv8 benchmarks\n",
    "from ultralytics.yolo.utils.benchmarks import benchmark"
   ]
  },
  {
   "cell_type": "code",
   "execution_count": null,
   "metadata": {},
   "outputs": [],
   "source": [
    "# Benchmark model\n",
    "benchmark(model='yolov8l.pt', imgsz=640, half=False, device=0)   # device 0 for GPU or \"cpu\" for CPU)\n",
    "benchmark(model='yolov8n.pt', imgsz=640, half=False, device=0)   # device 0 for GPU or \"cpu\" for CPU)"
   ]
  },
  {
   "cell_type": "markdown",
   "metadata": {},
   "source": [
    "### Results\n",
    "| VM Type | Time nano (ms)| Time large (ms) | VM price per hour (USD) | Price per 1M images nano (USD) | Price per 1M images large (USD) |\n",
    "| ------- | ----------- | ------------ | ----------- | ----------- | ----------- |\n",
    "| STANDARD_D2AS_V4 | 123 | 1782 | 0.115 | 3.39 | 56.93 |\n",
    "| STANDARD_NC24ADS_A100_V4 | 5 | 8 | 4.78 | 6.64 | 10.62 |\n",
    "| STANDARD_D96A_V4 | 36 | 139 | 4.9 |  49 | 189.18 |"
   ]
  },
  {
   "cell_type": "code",
   "execution_count": 20,
   "metadata": {},
   "outputs": [
    {
     "name": "stdout",
     "output_type": "stream",
     "text": [
      "----- nano ------\n",
      "STANDARD_D2AS_V4 nano: 3.93 USD\n",
      "STANDARD_D96A_V4 nano: 49.0 USD\n",
      "STANDARD_NC24ADS_A100_V4 nano: 6.64 USD\n",
      "\n",
      "----- large ------\n",
      "STANDARD_D2AS_V4 large: 56.93 USD\n",
      "STANDARD_D96A_V4 large: 189.19 USD\n",
      "STANDARD_NC24ADS_A100_V4 large: 10.62 USD\n"
     ]
    }
   ],
   "source": [
    "def price_per_1M_images(speed, price):\n",
    "    return round(price / (1000*60*60/speed)*1000000, 2)\n",
    "\n",
    "print(\"----- nano ------\")\n",
    "print(f\"STANDARD_D2AS_V4 nano: {price_per_1M_images(123, 0.115)} USD\")\n",
    "print(f\"STANDARD_D96A_V4 nano: {price_per_1M_images(36, 4.9)} USD\")\n",
    "print(f\"STANDARD_NC24ADS_A100_V4 nano: {price_per_1M_images(5, 4.78)} USD\")\n",
    "print()\n",
    "print(\"----- large ------\")\n",
    "print(f\"STANDARD_D2AS_V4 large: {price_per_1M_images(1782, 0.115)} USD\")\n",
    "print(f\"STANDARD_D96A_V4 large: {price_per_1M_images(139, 4.9)} USD\")\n",
    "print(f\"STANDARD_NC24ADS_A100_V4 large: {price_per_1M_images(8, 4.78)} USD\")"
   ]
  },
  {
   "cell_type": "markdown",
   "metadata": {},
   "source": [
    "## Export to ONNX"
   ]
  },
  {
   "cell_type": "code",
   "execution_count": null,
   "metadata": {},
   "outputs": [],
   "source": [
    "from ultralytics import YOLO\n",
    "import os\n",
    "\n",
    "# Load models\n",
    "model_yolov8n = YOLO('models/yolov8n/1/yolov8n.pt')  # load an official model\n",
    "model_yolov8l = YOLO('models/yolov8l/1/yolov8l.pt')  # load an official model\n"
   ]
  },
  {
   "cell_type": "code",
   "execution_count": null,
   "metadata": {},
   "outputs": [],
   "source": [
    "\n",
    "# Export models\n",
    "model_yolov8n.export(format='onnx')\n",
    "model_yolov8l.export(format='onnx')\n",
    "\n",
    "# Rename models\n",
    "os.replace('models/yolov8n/1/yolov8n.onnx', 'models/yolov8n/1/model.onnx')\n",
    "os.replace('models/yolov8l/1/yolov8l.onnx', 'models/yolov8l/1/model.onnx')\n",
    "\n",
    "# Delete pytorch version of model\n",
    "os.remove('models/yolov8n/1/yolov8n.pt')\n",
    "os.remove('models/yolov8l/1/yolov8l.pt')"
   ]
  },
  {
   "cell_type": "markdown",
   "metadata": {},
   "source": [
    "## Serve in Azure Machine Learning"
   ]
  },
  {
   "cell_type": "code",
   "execution_count": null,
   "metadata": {},
   "outputs": [],
   "source": [
    "%pip install numpy --user --upgrade\n",
    "%pip install tritonclient[http] --user --upgrade\n",
    "%pip install pillow --user --upgrade\n",
    "%pip install gevent --user --upgrade\n",
    "%pip install azure-ai-ml --user --upgrade"
   ]
  },
  {
   "cell_type": "code",
   "execution_count": 4,
   "metadata": {},
   "outputs": [],
   "source": [
    "# Variables\n",
    "subscription_id = \"d3b7888f-c26e-4961-a976-ff9d5b31dfd3\"\n",
    "resource_group = \"toml\"\n",
    "workspace_name = \"tomlsw\"\n",
    "endpoint_name = \"tomaskubica1423\""
   ]
  },
  {
   "cell_type": "code",
   "execution_count": 5,
   "metadata": {},
   "outputs": [],
   "source": [
    "# Login\n",
    "from azure.ai.ml import MLClient\n",
    "from azure.identity import DefaultAzureCredential\n",
    "\n",
    "ml_client = MLClient(\n",
    "    DefaultAzureCredential(),\n",
    "    subscription_id,\n",
    "    resource_group,\n",
    "    workspace_name,\n",
    ")"
   ]
  },
  {
   "cell_type": "code",
   "execution_count": 6,
   "metadata": {},
   "outputs": [],
   "source": [
    "# Create endpoint and deployment\n",
    "from azure.ai.ml.entities import ManagedOnlineEndpoint\n",
    "\n",
    "# Create endpoint\n",
    "endpoint = ManagedOnlineEndpoint(name=endpoint_name, auth_mode=\"key\")\n",
    "endpoint = ml_client.online_endpoints.begin_create_or_update(endpoint).result()"
   ]
  },
  {
   "cell_type": "code",
   "execution_count": 7,
   "metadata": {},
   "outputs": [
    {
     "name": "stderr",
     "output_type": "stream",
     "text": [
      "Check: endpoint tomaskubica1423 exists\n",
      "Your file exceeds 100 MB. If you experience low speeds, latency, or broken connections, we recommend using the AzCopyv10 tool for this file transfer.\n",
      "\n",
      "Example: azcopy copy 'C:\\Users\\tokubica\\OneDrive - Microsoft\\git\\ai-demos\\yolo\\models' 'https://tomlsw6681050375.blob.core.windows.net/azureml-blobstore-c514ab43-63ac-4d39-abb7-0dba62c004bb/LocalUpload/791de9f58a77202d3ec1040dbde83bbb/models' \n",
      "\n",
      "See https://docs.microsoft.com/azure/storage/common/storage-use-azcopy-v10 for more information.\n",
      "\u001b[32mUploading models (187.74 MBs): 100%|##########| 187739575/187739575 [00:08<00:00, 23120501.19it/s]\n",
      "\u001b[39m\n",
      "\n"
     ]
    },
    {
     "name": "stdout",
     "output_type": "stream",
     "text": [
      "........................................................................................................"
     ]
    },
    {
     "name": "stderr",
     "output_type": "stream",
     "text": [
      "Readonly attribute principal_id will be ignored in class <class 'azure.ai.ml._restclient.v2022_05_01.models._models_py3.ManagedServiceIdentity'>\n",
      "Readonly attribute tenant_id will be ignored in class <class 'azure.ai.ml._restclient.v2022_05_01.models._models_py3.ManagedServiceIdentity'>\n"
     ]
    },
    {
     "data": {
      "text/plain": [
       "ManagedOnlineEndpoint({'public_network_access': 'Enabled', 'provisioning_state': 'Succeeded', 'scoring_uri': 'https://tomaskubica1423.swedencentral.inference.ml.azure.com/', 'openapi_uri': 'https://tomaskubica1423.swedencentral.inference.ml.azure.com/swagger.json', 'name': 'tomaskubica1423', 'description': None, 'tags': {}, 'properties': {'azureml.onlineendpointid': '/subscriptions/d3b7888f-c26e-4961-a976-ff9d5b31dfd3/resourcegroups/toml/providers/microsoft.machinelearningservices/workspaces/tomlsw/onlineendpoints/tomaskubica1423', 'AzureAsyncOperationUri': 'https://management.azure.com/subscriptions/d3b7888f-c26e-4961-a976-ff9d5b31dfd3/providers/Microsoft.MachineLearningServices/locations/swedencentral/mfeOperationsStatus/oe:c514ab43-63ac-4d39-abb7-0dba62c004bb:8e542b50-6377-45af-a4b9-ee53d0f86cf4?api-version=2022-02-01-preview'}, 'print_as_yaml': True, 'id': '/subscriptions/d3b7888f-c26e-4961-a976-ff9d5b31dfd3/resourceGroups/toml/providers/Microsoft.MachineLearningServices/workspaces/tomlsw/onlineEndpoints/tomaskubica1423', 'Resource__source_path': None, 'base_path': 'c:\\\\Users\\\\tokubica\\\\OneDrive - Microsoft\\\\git\\\\ai-demos\\\\yolo', 'creation_context': None, 'serialize': <msrest.serialization.Serializer object at 0x000001F504F57A90>, 'auth_mode': 'key', 'location': 'swedencentral', 'identity': <azure.ai.ml.entities._credentials.IdentityConfiguration object at 0x000001F504DAE210>, 'traffic': {'blue': 100}, 'mirror_traffic': {}, 'kind': 'Managed'})"
      ]
     },
     "execution_count": 7,
     "metadata": {},
     "output_type": "execute_result"
    }
   ],
   "source": [
    "# Create deployment\n",
    "from azure.ai.ml.entities import ManagedOnlineDeployment, Model\n",
    "\n",
    "deployment = ManagedOnlineDeployment(\n",
    "    name=\"blue\",\n",
    "    endpoint_name=endpoint_name,\n",
    "    model=Model(path=\"./models\", type=\"triton_model\"),\n",
    "    instance_type=\"Standard_D2as_v4\",\n",
    "    instance_count=1,\n",
    ")\n",
    "\n",
    "ml_client.online_deployments.begin_create_or_update(deployment).result()\n",
    "\n",
    "# Update traffic\n",
    "endpoint.traffic = {\"blue\": 100}\n",
    "ml_client.online_endpoints.begin_create_or_update(endpoint).result()"
   ]
  },
  {
   "cell_type": "code",
   "execution_count": null,
   "metadata": {},
   "outputs": [],
   "source": [
    "# Debug - run triton server locally\n",
    "# !docker pull nvcr.io/nvidia/tritonserver:23.05-py3\n",
    "# !docker run -it --rm -p8000:8000 -p8001:8001 -p8002:8002 -v ./models:/models nvcr.io/nvidia/tritonserver:23.05-py3 tritonserver --model-repository=/models"
   ]
  },
  {
   "cell_type": "markdown",
   "metadata": {},
   "source": [
    "# Test Triton server"
   ]
  },
  {
   "cell_type": "code",
   "execution_count": null,
   "metadata": {},
   "outputs": [],
   "source": [
    "# Install Triton client\n",
    "%pip install tritonclient[http] --user --upgrade"
   ]
  },
  {
   "cell_type": "code",
   "execution_count": 28,
   "metadata": {},
   "outputs": [],
   "source": [
    "# Imports\n",
    "import tritonclient.http as tritonhttpclient\n",
    "import gevent.ssl\n",
    "import cv2\n",
    "import numpy as np"
   ]
  },
  {
   "cell_type": "code",
   "execution_count": 35,
   "metadata": {},
   "outputs": [],
   "source": [
    "# Get scoring URI and key\n",
    "endpoint = ml_client.online_endpoints.get(endpoint_name)\n",
    "scoring_uri = endpoint.scoring_uri\n",
    "keys = ml_client.online_endpoints.get_keys(endpoint_name)\n",
    "auth_key = keys.primary_key\n",
    "\n",
    "# Initialize client handler\n",
    "triton_client = tritonhttpclient.InferenceServerClient(\n",
    "    url=url,\n",
    "    ssl=True,\n",
    "    ssl_context_factory=gevent.ssl._create_default_https_context,\n",
    ")\n",
    "\n",
    "# Create headers\n",
    "headers = {}\n",
    "headers[\"Authorization\"] = f\"Bearer {auth_key}\""
   ]
  },
  {
   "cell_type": "code",
   "execution_count": 36,
   "metadata": {},
   "outputs": [
    {
     "name": "stdout",
     "output_type": "stream",
     "text": [
      "Is server ready - True\n"
     ]
    }
   ],
   "source": [
    "# Check Triton server is ready\n",
    "health_ctx = triton_client.is_server_ready(headers=headers)\n",
    "print(\"Is server ready - {}\".format(health_ctx))"
   ]
  },
  {
   "cell_type": "code",
   "execution_count": 37,
   "metadata": {},
   "outputs": [
    {
     "data": {
      "text/plain": [
       "[{'name': 'yolov8l', 'version': '1', 'state': 'READY'},\n",
       " {'name': 'yolov8n', 'version': '1', 'state': 'READY'}]"
      ]
     },
     "execution_count": 37,
     "metadata": {},
     "output_type": "execute_result"
    }
   ],
   "source": [
    "# List models on Triton server\n",
    "triton_client.get_model_repository_index(headers=headers)"
   ]
  },
  {
   "cell_type": "code",
   "execution_count": 77,
   "metadata": {},
   "outputs": [
    {
     "data": {
      "text/plain": [
       "True"
      ]
     },
     "execution_count": 77,
     "metadata": {},
     "output_type": "execute_result"
    }
   ],
   "source": [
    "# Check ready model status\n",
    "model_name = \"yolov8l\"\n",
    "version = \"1\"\n",
    "triton_client.is_model_ready(model_name, version, headers)"
   ]
  },
  {
   "cell_type": "code",
   "execution_count": 78,
   "metadata": {},
   "outputs": [],
   "source": [
    "# Load image file\n",
    "img = cv2.imread('test.jpg')\n",
    "\n",
    "# Preprocess image\n",
    "img = cv2.resize(img, (640, 640))\n",
    "img = img.astype(np.float32) / 255.0\n",
    "img = np.transpose(img, (2, 0, 1))\n",
    "img = np.expand_dims(img, axis=0)\n",
    "\n",
    "# Create inference request\n",
    "input = tritonhttpclient.InferInput('images', img.shape, 'FP32')\n",
    "input.set_data_from_numpy(img)"
   ]
  },
  {
   "cell_type": "code",
   "execution_count": 79,
   "metadata": {},
   "outputs": [],
   "source": [
    "# Send inference request\n",
    "outputs = [tritonhttpclient.InferRequestedOutput('output0')]\n",
    "response = triton_client.infer('yolov8n', inputs=[input], outputs=outputs, headers=headers)"
   ]
  },
  {
   "cell_type": "code",
   "execution_count": 80,
   "metadata": {},
   "outputs": [
    {
     "name": "stdout",
     "output_type": "stream",
     "text": [
      "Row 0: x_center: 3.311304807662964 y_center: 5.113790035247803 width: 6.834377765655518 height: 10.289277076721191\n",
      "Classes probabilities: [ 2.7716e-06  2.6822e-07  9.2387e-07  1.7881e-07  8.9407e-07  3.5763e-07  2.6822e-07  4.7684e-07  9.2387e-07  7.7486e-07  1.7881e-07  4.4703e-07  1.7881e-07  3.5763e-07  9.8348e-07  1.1921e-07  5.9605e-08  2.3842e-07  1.7881e-07  2.6822e-07  1.1921e-07  2.3842e-07  5.9605e-08  2.9802e-07  1.4901e-07  7.7486e-07\n",
      "  1.7881e-07  1.7881e-07  8.9407e-08  4.1723e-07  5.3644e-07  3.5763e-07  3.5763e-07  9.8348e-07  3.2783e-07  2.9802e-08  2.0862e-07  9.2387e-07  2.9802e-07  2.9802e-07  6.8545e-07  7.4506e-07  2.6822e-07  2.0862e-07  2.0862e-07  4.1723e-07  2.6822e-07  2.6822e-07  1.7881e-07  2.6822e-07  8.9407e-08  1.4901e-07\n",
      "  1.7881e-07  1.4901e-07  1.7881e-07  1.1921e-07  6.8545e-07  1.4901e-07  4.1723e-07  2.0862e-07  5.3644e-07  2.6822e-07  2.0862e-07  2.0862e-07           0  1.4901e-07  2.9802e-08  2.0862e-07  1.1921e-07  8.9407e-08  8.9407e-08  3.8743e-07  3.2783e-07  3.8743e-07  2.3842e-07  1.7881e-07  2.6822e-07  2.0862e-07\n",
      "  1.1921e-07  3.2783e-07]\n"
     ]
    }
   ],
   "source": [
    "# Get rid of first dimension (we have just one image)\n",
    "output_data = response.as_numpy('output0')[0]\n",
    "\n",
    "# Transpose to get 8400x84\n",
    "output_data = output_data.transpose()\n",
    "\n",
    "# Now each row is one bounding box\n",
    "# First 4 numbers are bounding box coordinates, next 80 are probabilities for different classes\n",
    "print(f\"Row 0: x_center: {output_data[0][0]} y_center: {output_data[0][1]} width: {output_data[0][2]} height: {output_data[0][3]}\")\n",
    "print(f\"Classes probabilities: {output_data[0][4:]}\")"
   ]
  },
  {
   "cell_type": "code",
   "execution_count": 90,
   "metadata": {},
   "outputs": [
    {
     "name": "stdout",
     "output_type": "stream",
     "text": [
      "Label: person with probability: 2.771615982055664e-06\n"
     ]
    }
   ],
   "source": [
    "# Find bounding box with highest probability and print class id\n",
    "yolo_classes = [\n",
    "    \"person\", \"bicycle\", \"car\", \"motorcycle\", \"airplane\", \"bus\", \"train\", \"truck\", \"boat\",\n",
    "    \"traffic light\", \"fire hydrant\", \"stop sign\", \"parking meter\", \"bench\", \"bird\", \"cat\", \"dog\", \"horse\",\n",
    "    \"sheep\", \"cow\", \"elephant\", \"bear\", \"zebra\", \"giraffe\", \"backpack\", \"umbrella\", \"handbag\", \"tie\",\n",
    "    \"suitcase\", \"frisbee\", \"skis\", \"snowboard\", \"sports ball\", \"kite\", \"baseball bat\", \"baseball glove\",\n",
    "    \"skateboard\", \"surfboard\", \"tennis racket\", \"bottle\", \"wine glass\", \"cup\", \"fork\", \"knife\", \"spoon\",\n",
    "    \"bowl\", \"banana\", \"apple\", \"sandwich\", \"orange\", \"broccoli\", \"carrot\", \"hot dog\", \"pizza\", \"donut\",\n",
    "    \"cake\", \"chair\", \"couch\", \"potted plant\", \"bed\", \"dining table\", \"toilet\", \"tv\", \"laptop\", \"mouse\",\n",
    "    \"remote\", \"keyboard\", \"cell phone\", \"microwave\", \"oven\", \"toaster\", \"sink\", \"refrigerator\", \"book\",\n",
    "    \"clock\", \"vase\", \"scissors\", \"teddy bear\", \"hair drier\", \"toothbrush\"\n",
    "]\n",
    "\n",
    "prob = output_data[0][4:].max()\n",
    "class_id = output_data[0][4:].argmax()\n",
    "print(f\"Label: {yolo_classes[class_id]} with probability: {prob}\")"
   ]
  },
  {
   "cell_type": "code",
   "execution_count": 91,
   "metadata": {},
   "outputs": [
    {
     "name": "stdout",
     "output_type": "stream",
     "text": [
      "Label: person with probability: 0.5086160898208618\n",
      "Label: person with probability: 0.6555760502815247\n",
      "Label: person with probability: 0.5593835711479187\n",
      "Label: person with probability: 0.505821704864502\n",
      "Label: person with probability: 0.5590744614601135\n",
      "Label: person with probability: 0.748077929019928\n",
      "Label: person with probability: 0.5721433162689209\n",
      "Label: person with probability: 0.5527952909469604\n",
      "Label: person with probability: 0.5461987853050232\n",
      "Label: skateboard with probability: 0.5450615286827087\n",
      "Label: skateboard with probability: 0.5487391352653503\n",
      "Label: skateboard with probability: 0.5443091988563538\n",
      "Label: person with probability: 0.8153501749038696\n",
      "Label: person with probability: 0.8281033635139465\n",
      "Label: person with probability: 0.8367499113082886\n",
      "Label: person with probability: 0.73560631275177\n",
      "Label: person with probability: 0.5858952403068542\n",
      "Label: person with probability: 0.8325259685516357\n",
      "Label: person with probability: 0.8535487055778503\n",
      "Label: person with probability: 0.7843707203865051\n",
      "Label: person with probability: 0.5728871822357178\n",
      "Label: person with probability: 0.6324586272239685\n",
      "Label: person with probability: 0.5949966907501221\n",
      "Label: person with probability: 0.8236875534057617\n",
      "Label: person with probability: 0.832109808921814\n",
      "Label: person with probability: 0.601049542427063\n",
      "Label: person with probability: 0.5239495038986206\n",
      "Label: person with probability: 0.646032452583313\n",
      "Label: person with probability: 0.5458073019981384\n",
      "Label: person with probability: 0.6065704822540283\n",
      "Label: person with probability: 0.5662367343902588\n",
      "Label: person with probability: 0.560064435005188\n",
      "Label: person with probability: 0.541343629360199\n",
      "Label: person with probability: 0.5733106732368469\n",
      "Label: person with probability: 0.5690126419067383\n",
      "Label: person with probability: 0.5406612157821655\n",
      "Label: person with probability: 0.5151849985122681\n",
      "Label: skateboard with probability: 0.5088469982147217\n",
      "Label: skateboard with probability: 0.6003105640411377\n",
      "Label: skateboard with probability: 0.5914798974990845\n",
      "Label: skateboard with probability: 0.6070641279220581\n",
      "Label: skateboard with probability: 0.5992907285690308\n",
      "Label: skateboard with probability: 0.6553726196289062\n",
      "Label: skateboard with probability: 0.6983236074447632\n",
      "Label: skateboard with probability: 0.5860611200332642\n",
      "Label: person with probability: 0.883987307548523\n",
      "Label: person with probability: 0.8948551416397095\n",
      "Label: person with probability: 0.9198627471923828\n",
      "Label: person with probability: 0.9151439666748047\n",
      "Label: person with probability: 0.8980503082275391\n",
      "Label: person with probability: 0.921837568283081\n",
      "Label: person with probability: 0.9098809957504272\n",
      "Label: person with probability: 0.9048677682876587\n",
      "Label: person with probability: 0.9236358404159546\n",
      "Label: person with probability: 0.9213409423828125\n",
      "Label: person with probability: 0.8963098526000977\n",
      "Label: person with probability: 0.8146697878837585\n",
      "Label: person with probability: 0.8637158870697021\n",
      "Label: person with probability: 0.8581342697143555\n",
      "Label: person with probability: 0.8517228364944458\n",
      "Label: person with probability: 0.8774440288543701\n",
      "Label: person with probability: 0.852621853351593\n",
      "Label: person with probability: 0.8424484729766846\n",
      "Label: person with probability: 0.8738746643066406\n",
      "Label: person with probability: 0.8699650764465332\n",
      "Label: person with probability: 0.8659065961837769\n",
      "Label: person with probability: 0.8834416270256042\n",
      "Label: person with probability: 0.8632938861846924\n",
      "Label: person with probability: 0.8488913774490356\n",
      "Label: person with probability: 0.8560683727264404\n",
      "Label: person with probability: 0.8417940139770508\n",
      "Label: person with probability: 0.8286707401275635\n",
      "Label: person with probability: 0.8523495197296143\n",
      "Label: person with probability: 0.8646653294563293\n",
      "Label: person with probability: 0.8666830062866211\n"
     ]
    }
   ],
   "source": [
    "# Cycle through all bounding boxes and print those with probability higher than 0.5\n",
    "for row in output_data:\n",
    "    prob = row[4:].max()\n",
    "    class_id = row[4:].argmax()\n",
    "    if prob > 0.5:\n",
    "        print(f\"Label: {yolo_classes[class_id]} with probability: {prob}\")"
   ]
  }
 ],
 "metadata": {
  "kernelspec": {
   "display_name": "Python 3",
   "language": "python",
   "name": "python3"
  },
  "language_info": {
   "codemirror_mode": {
    "name": "ipython",
    "version": 3
   },
   "file_extension": ".py",
   "mimetype": "text/x-python",
   "name": "python",
   "nbconvert_exporter": "python",
   "pygments_lexer": "ipython3",
   "version": "3.11.2"
  },
  "orig_nbformat": 4
 },
 "nbformat": 4,
 "nbformat_minor": 2
}
